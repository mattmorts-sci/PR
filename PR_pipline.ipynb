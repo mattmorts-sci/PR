{
 "cells": [
  {
   "cell_type": "markdown",
   "metadata": {},
   "source": [
    "Written by Matt Mortimer, started 28 Sep 2021,\n",
    "matthew.mortimer@anu.edu.au,\n",
    "Orcid ID: https://orcid.org/0000-0002-8135-9319\n",
    "Python 3"
   ]
  },
  {
   "cell_type": "markdown",
   "metadata": {},
   "source": [
    "# Overview\n",
    "*Background:* Engineer plant nitrate reductase enzyme into perchlorate reductase  \n",
    "*Aim:* Phylogenetic component of the project aims to generate a plant nitrate reductase enzyme phlyogeny and reconstruct the ancestors  \n",
    "*Data sources:* \n",
    "    Primary - One Thousand Plant Transcriptome TBlastN (default settings), 10k sequences  \n",
    "                210719_NR_1kp.fasta  \n",
    "                210719_NR_1kp_details.txt  \n",
    "            - Phytozome, TBLASTN (e-value threshold -10, word length default, BLOSUM62, allow gaps) 848 sequences \n",
    "                211021_NR_phyto_details.txt \n",
    "     Secondary - Download of PF00384 family (may not use), 31166 sequences  \n",
    "                PF00384_full_w_nitrate_reductase.txt  "
   ]
  },
  {
   "cell_type": "code",
   "execution_count": 1,
   "metadata": {},
   "outputs": [],
   "source": [
    "from Bio import SeqIO\n",
    "from random import shuffle\n",
    "from random import seed\n",
    "\n",
    "import pandas as pd\n",
    "import seaborn as sns \n",
    "import os as os\n",
    "\n",
    "from modules.annotations import *\n",
    "from modules.cleaner import *\n",
    "from modules.analysis import len_distro\n",
    "from modules.run_blast import blast\n",
    "from modules.size_filter import *\n",
    "from modules.utilities import *\n",
    "from modules.motif_finder import *\n",
    "\n",
    "from datetime import datetime\n",
    "DATE = datetime.now().strftime('%y%m%d')"
   ]
  },
  {
   "cell_type": "markdown",
   "metadata": {},
   "source": [
    "# Nitrate Reductase data processing"
   ]
  },
  {
   "cell_type": "markdown",
   "metadata": {},
   "source": [
    "# Phytozome processing"
   ]
  },
  {
   "cell_type": "code",
   "execution_count": 13,
   "metadata": {},
   "outputs": [],
   "source": [
    "# Take the phytozome BLASTP output \n",
    "# Add results to the cart, then download with 'Attributes' -> 'Header Information', selection\n",
    "# 'Gene Name' + 'Organism Name'\n",
    "\n",
    "# This code will create a csv index file of the sequences and taxonomic info\n",
    "# Will also generate psudo-Scaffold_ids to match the 1KP dataset\n",
    "\n",
    "file_n = 'source_data/220818_phyto_nr.fasta'\n",
    "\n",
    "with open(file_n) as seqs:\n",
    "    count = 0\n",
    "    for line in seqs:\n",
    "        if line.startswith(\">\"):\n",
    "            count += 1\n",
    "\n",
    "\n",
    "# generates the range of unique numbers between \n",
    "ids = [i for i in range(1_000_000, 10_000_000)]\n",
    "\n",
    "# seed to provide reproducibility of shuffle, then shuffles\n",
    "\n",
    "seed(1)\n",
    "shuffle(ids)\n",
    "id_lst = ids[:count]\n",
    "\n",
    "with open(f'output/220825_phyto_nr_details.txt', 'w+') as ofile:\n",
    "\n",
    "    ofile.write('Scaffold_id' + '\\t' + 'Protein' + '\\t' + 'Short_species' + '\\t' + 'Phyto_species' +' \\t' +  'Sequence' '\\n')\n",
    "    for seq_record in SeqIO.parse(f'source_data/220818_phyto_nr.fasta', 'fasta'):\n",
    "        count += 1\n",
    "        sequence = str(seq_record.seq).upper() # Converts sequence to uppercase string\n",
    "        sequence = sequence.rstrip(\"*\")\n",
    "        h = seq_record.id.lstrip('>').split('|')\n",
    "        h1 = h[0]\n",
    "        h2 = h[1].split('_')[0]\n",
    "        h3 = h2[0]\n",
    "        h4 = h2[1:]\n",
    "        species = h3 + '_' + h4\n",
    "        scaf = id_lst.pop()\n",
    "\n",
    "        ofile.write('PHYT_' + str(scaf) + '\\t' + h1 + '\\t' + species + '\\t' + h[1] + '\\t' + sequence + '\\n')\n",
    "\n",
    "# # Generate unique psudo-Scaffold_ids \n",
    "\n",
    "# # generates the range of unique numbers between \n",
    "# ids = [i for i in range(1_000_000, 10_000_000)]\n",
    "\n",
    "# # seed to provide reproducibility of shuffle, then shuffles\n",
    "\n",
    "# seed(1)\n",
    "# shuffle(ids)\n",
    "# ids = ids[:count]\n",
    "\n",
    "# phyt_ids = []\n",
    "\n",
    "# for i in ids:\n",
    "#     n = 'PHYT_' + str(i)\n",
    "#     phyt_ids.append(n)\n",
    "\n",
    "# # Create and index dataframe then export to csv\n",
    "\n",
    "# phyt_ids_df = pd.DataFrame(phyt_ids, columns = ['Scaffold_id'])\n",
    "\n",
    "# phyt_ids_df\n",
    "\n",
    "# phyto_details = pd.read_csv(f'output/220825_phyto_nr_details.txt', sep = '\\t')\n",
    "\n",
    "# phyto_index_df = pd.concat([phyto_details, phyt_ids_df], axis = 1)\n",
    "\n",
    "# Manually correct with full species names, file named 'output/220825_phyto_nr_master_index_curated.csv'"
   ]
  },
  {
   "cell_type": "code",
   "execution_count": 22,
   "metadata": {},
   "outputs": [
    {
     "ename": "KeyError",
     "evalue": "'Phyto_species'",
     "output_type": "error",
     "traceback": [
      "\u001b[0;31m---------------------------------------------------------------------------\u001b[0m",
      "\u001b[0;31mKeyError\u001b[0m                                  Traceback (most recent call last)",
      "\u001b[1;32m/Users/u6280883/Documents/Github_clones/PR/PR_pipline.ipynb Cell 9\u001b[0m in \u001b[0;36m<cell line: 6>\u001b[0;34m()\u001b[0m\n\u001b[1;32m      <a href='vscode-notebook-cell:/Users/u6280883/Documents/Github_clones/PR/PR_pipline.ipynb#W4sZmlsZQ%3D%3D?line=3'>4</a>\u001b[0m tax_data \u001b[39m=\u001b[39m pd\u001b[39m.\u001b[39mread_csv(\u001b[39m'\u001b[39m\u001b[39msource_data/220825_species_taxonomy.csv\u001b[39m\u001b[39m'\u001b[39m)\n\u001b[1;32m      <a href='vscode-notebook-cell:/Users/u6280883/Documents/Github_clones/PR/PR_pipline.ipynb#W4sZmlsZQ%3D%3D?line=4'>5</a>\u001b[0m tax \u001b[39m=\u001b[39m tax_data[[\u001b[39m'\u001b[39m\u001b[39mSpecies\u001b[39m\u001b[39m'\u001b[39m, \u001b[39m'\u001b[39m\u001b[39mDescription\u001b[39m\u001b[39m'\u001b[39m, \u001b[39m'\u001b[39m\u001b[39mOrder\u001b[39m\u001b[39m'\u001b[39m]]\n\u001b[0;32m----> <a href='vscode-notebook-cell:/Users/u6280883/Documents/Github_clones/PR/PR_pipline.ipynb#W4sZmlsZQ%3D%3D?line=5'>6</a>\u001b[0m phyto_master_index \u001b[39m=\u001b[39m pd\u001b[39m.\u001b[39;49mmerge(phyto_index_df, phyto_index, how \u001b[39m=\u001b[39;49m \u001b[39m'\u001b[39;49m\u001b[39mleft\u001b[39;49m\u001b[39m'\u001b[39;49m, on \u001b[39m=\u001b[39;49m \u001b[39m'\u001b[39;49m\u001b[39mPhyto_species\u001b[39;49m\u001b[39m'\u001b[39;49m)\n",
      "File \u001b[0;32m~/Library/Python/3.10/lib/python/site-packages/pandas/core/reshape/merge.py:107\u001b[0m, in \u001b[0;36mmerge\u001b[0;34m(left, right, how, on, left_on, right_on, left_index, right_index, sort, suffixes, copy, indicator, validate)\u001b[0m\n\u001b[1;32m     90\u001b[0m \u001b[39m@Substitution\u001b[39m(\u001b[39m\"\u001b[39m\u001b[39m\\n\u001b[39;00m\u001b[39mleft : DataFrame or named Series\u001b[39m\u001b[39m\"\u001b[39m)\n\u001b[1;32m     91\u001b[0m \u001b[39m@Appender\u001b[39m(_merge_doc, indents\u001b[39m=\u001b[39m\u001b[39m0\u001b[39m)\n\u001b[1;32m     92\u001b[0m \u001b[39mdef\u001b[39;00m \u001b[39mmerge\u001b[39m(\n\u001b[0;32m   (...)\u001b[0m\n\u001b[1;32m    105\u001b[0m     validate: \u001b[39mstr\u001b[39m \u001b[39m|\u001b[39m \u001b[39mNone\u001b[39;00m \u001b[39m=\u001b[39m \u001b[39mNone\u001b[39;00m,\n\u001b[1;32m    106\u001b[0m ) \u001b[39m-\u001b[39m\u001b[39m>\u001b[39m DataFrame:\n\u001b[0;32m--> 107\u001b[0m     op \u001b[39m=\u001b[39m _MergeOperation(\n\u001b[1;32m    108\u001b[0m         left,\n\u001b[1;32m    109\u001b[0m         right,\n\u001b[1;32m    110\u001b[0m         how\u001b[39m=\u001b[39;49mhow,\n\u001b[1;32m    111\u001b[0m         on\u001b[39m=\u001b[39;49mon,\n\u001b[1;32m    112\u001b[0m         left_on\u001b[39m=\u001b[39;49mleft_on,\n\u001b[1;32m    113\u001b[0m         right_on\u001b[39m=\u001b[39;49mright_on,\n\u001b[1;32m    114\u001b[0m         left_index\u001b[39m=\u001b[39;49mleft_index,\n\u001b[1;32m    115\u001b[0m         right_index\u001b[39m=\u001b[39;49mright_index,\n\u001b[1;32m    116\u001b[0m         sort\u001b[39m=\u001b[39;49msort,\n\u001b[1;32m    117\u001b[0m         suffixes\u001b[39m=\u001b[39;49msuffixes,\n\u001b[1;32m    118\u001b[0m         copy\u001b[39m=\u001b[39;49mcopy,\n\u001b[1;32m    119\u001b[0m         indicator\u001b[39m=\u001b[39;49mindicator,\n\u001b[1;32m    120\u001b[0m         validate\u001b[39m=\u001b[39;49mvalidate,\n\u001b[1;32m    121\u001b[0m     )\n\u001b[1;32m    122\u001b[0m     \u001b[39mreturn\u001b[39;00m op\u001b[39m.\u001b[39mget_result()\n",
      "File \u001b[0;32m~/Library/Python/3.10/lib/python/site-packages/pandas/core/reshape/merge.py:700\u001b[0m, in \u001b[0;36m_MergeOperation.__init__\u001b[0;34m(self, left, right, how, on, left_on, right_on, axis, left_index, right_index, sort, suffixes, copy, indicator, validate)\u001b[0m\n\u001b[1;32m    693\u001b[0m \u001b[39mself\u001b[39m\u001b[39m.\u001b[39m_cross \u001b[39m=\u001b[39m cross_col\n\u001b[1;32m    695\u001b[0m \u001b[39m# note this function has side effects\u001b[39;00m\n\u001b[1;32m    696\u001b[0m (\n\u001b[1;32m    697\u001b[0m     \u001b[39mself\u001b[39m\u001b[39m.\u001b[39mleft_join_keys,\n\u001b[1;32m    698\u001b[0m     \u001b[39mself\u001b[39m\u001b[39m.\u001b[39mright_join_keys,\n\u001b[1;32m    699\u001b[0m     \u001b[39mself\u001b[39m\u001b[39m.\u001b[39mjoin_names,\n\u001b[0;32m--> 700\u001b[0m ) \u001b[39m=\u001b[39m \u001b[39mself\u001b[39;49m\u001b[39m.\u001b[39;49m_get_merge_keys()\n\u001b[1;32m    702\u001b[0m \u001b[39m# validate the merge keys dtypes. We may need to coerce\u001b[39;00m\n\u001b[1;32m    703\u001b[0m \u001b[39m# to avoid incompatible dtypes\u001b[39;00m\n\u001b[1;32m    704\u001b[0m \u001b[39mself\u001b[39m\u001b[39m.\u001b[39m_maybe_coerce_merge_keys()\n",
      "File \u001b[0;32m~/Library/Python/3.10/lib/python/site-packages/pandas/core/reshape/merge.py:1097\u001b[0m, in \u001b[0;36m_MergeOperation._get_merge_keys\u001b[0;34m(self)\u001b[0m\n\u001b[1;32m   1095\u001b[0m \u001b[39mif\u001b[39;00m \u001b[39mnot\u001b[39;00m is_rkey(rk):\n\u001b[1;32m   1096\u001b[0m     \u001b[39mif\u001b[39;00m rk \u001b[39mis\u001b[39;00m \u001b[39mnot\u001b[39;00m \u001b[39mNone\u001b[39;00m:\n\u001b[0;32m-> 1097\u001b[0m         right_keys\u001b[39m.\u001b[39mappend(right\u001b[39m.\u001b[39;49m_get_label_or_level_values(rk))\n\u001b[1;32m   1098\u001b[0m     \u001b[39melse\u001b[39;00m:\n\u001b[1;32m   1099\u001b[0m         \u001b[39m# work-around for merge_asof(right_index=True)\u001b[39;00m\n\u001b[1;32m   1100\u001b[0m         right_keys\u001b[39m.\u001b[39mappend(right\u001b[39m.\u001b[39mindex)\n",
      "File \u001b[0;32m~/Library/Python/3.10/lib/python/site-packages/pandas/core/generic.py:1848\u001b[0m, in \u001b[0;36mNDFrame._get_label_or_level_values\u001b[0;34m(self, key, axis)\u001b[0m\n\u001b[1;32m   1846\u001b[0m     values \u001b[39m=\u001b[39m \u001b[39mself\u001b[39m\u001b[39m.\u001b[39maxes[axis]\u001b[39m.\u001b[39mget_level_values(key)\u001b[39m.\u001b[39m_values\n\u001b[1;32m   1847\u001b[0m \u001b[39melse\u001b[39;00m:\n\u001b[0;32m-> 1848\u001b[0m     \u001b[39mraise\u001b[39;00m \u001b[39mKeyError\u001b[39;00m(key)\n\u001b[1;32m   1850\u001b[0m \u001b[39m# Check for duplicates\u001b[39;00m\n\u001b[1;32m   1851\u001b[0m \u001b[39mif\u001b[39;00m values\u001b[39m.\u001b[39mndim \u001b[39m>\u001b[39m \u001b[39m1\u001b[39m:\n",
      "\u001b[0;31mKeyError\u001b[0m: 'Phyto_species'"
     ]
    }
   ],
   "source": [
    "# Formats the above manually curated csv into one with only relevant fields\n",
    "\n",
    "phyto_index = pd.read_csv('output/220825_phyto_nr_master_index_curated.csv')\n",
    "tax_data = pd.read_csv('source_data/220825_species_taxonomy.csv')\n",
    "tax = tax_data[['Species', 'Description', 'Order']]\n",
    "phyto_master_index = pd.merge(phyto_index_df, phyto_index, how = 'left', on = 'Phyto_species')\n",
    "\n",
    "#phyto_master_index.to_csv(f'output/220825_phyto_nr_master_index.csv', index = False)"
   ]
  },
  {
   "cell_type": "code",
   "execution_count": 19,
   "metadata": {},
   "outputs": [
    {
     "data": {
      "text/html": [
       "<div>\n",
       "<style scoped>\n",
       "    .dataframe tbody tr th:only-of-type {\n",
       "        vertical-align: middle;\n",
       "    }\n",
       "\n",
       "    .dataframe tbody tr th {\n",
       "        vertical-align: top;\n",
       "    }\n",
       "\n",
       "    .dataframe thead th {\n",
       "        text-align: right;\n",
       "    }\n",
       "</style>\n",
       "<table border=\"1\" class=\"dataframe\">\n",
       "  <thead>\n",
       "    <tr style=\"text-align: right;\">\n",
       "      <th></th>\n",
       "      <th>Protein</th>\n",
       "      <th>Short_species</th>\n",
       "      <th>Phyto_species</th>\n",
       "      <th>Sequence</th>\n",
       "      <th>Species</th>\n",
       "      <th>Description</th>\n",
       "      <th>Order</th>\n",
       "    </tr>\n",
       "  </thead>\n",
       "  <tbody>\n",
       "    <tr>\n",
       "      <th>0</th>\n",
       "      <td>Acora.04G000700</td>\n",
       "      <td>Acorus_americanus</td>\n",
       "      <td>Aamericanus_v1.1</td>\n",
       "      <td>MWIHHIRGGGLIGGAVLKEISPHRIRIRIRKWIEQIEEERSDPQPI...</td>\n",
       "      <td>Acorus_americanus</td>\n",
       "      <td>Monocots/Commelinids</td>\n",
       "      <td>Acorales</td>\n",
       "    </tr>\n",
       "    <tr>\n",
       "      <th>1</th>\n",
       "      <td>Acora.04G000700</td>\n",
       "      <td>Acorus_americanus</td>\n",
       "      <td>Aamericanus_v1.1</td>\n",
       "      <td>MVVIVLALIFCFLVGALVFGPKASKPVARTIQQPPPGKASKLYTKA...</td>\n",
       "      <td>Acorus_americanus</td>\n",
       "      <td>Monocots/Commelinids</td>\n",
       "      <td>Acorales</td>\n",
       "    </tr>\n",
       "    <tr>\n",
       "      <th>2</th>\n",
       "      <td>Acora.04G180500</td>\n",
       "      <td>Acorus_americanus</td>\n",
       "      <td>Aamericanus_v1.1</td>\n",
       "      <td>MPTLTKIFSMQEISRHNERDDCWIVIDGKVYDVTSYMDEHPGGDDV...</td>\n",
       "      <td>Acorus_americanus</td>\n",
       "      <td>Monocots/Commelinids</td>\n",
       "      <td>Acorales</td>\n",
       "    </tr>\n",
       "    <tr>\n",
       "      <th>3</th>\n",
       "      <td>Acora.08G073800</td>\n",
       "      <td>Acorus_americanus</td>\n",
       "      <td>Aamericanus_v1.1</td>\n",
       "      <td>MESKSDLKVIAFDDVVKHNITHDCWLIIFGKVYDVTEFMSDHPGGE...</td>\n",
       "      <td>Acorus_americanus</td>\n",
       "      <td>Monocots/Commelinids</td>\n",
       "      <td>Acorales</td>\n",
       "    </tr>\n",
       "    <tr>\n",
       "      <th>4</th>\n",
       "      <td>Acora.12G105300</td>\n",
       "      <td>Acorus_americanus</td>\n",
       "      <td>Aamericanus_v1.1</td>\n",
       "      <td>MAALLRRLSRAAPTAFTHAFNEQPRSNPSRLFPFGATAIAGGLACL...</td>\n",
       "      <td>Acorus_americanus</td>\n",
       "      <td>Monocots/Commelinids</td>\n",
       "      <td>Acorales</td>\n",
       "    </tr>\n",
       "    <tr>\n",
       "      <th>...</th>\n",
       "      <td>...</td>\n",
       "      <td>...</td>\n",
       "      <td>...</td>\n",
       "      <td>...</td>\n",
       "      <td>...</td>\n",
       "      <td>...</td>\n",
       "      <td>...</td>\n",
       "    </tr>\n",
       "    <tr>\n",
       "      <th>3878</th>\n",
       "      <td>Zm00001d013257</td>\n",
       "      <td>Zea_mays</td>\n",
       "      <td>Zmays_RefGen_V4</td>\n",
       "      <td>MPTLTKLYSMKEAALHNTPDDCWVVVDGKIYDVTKYLEDHPGGADV...</td>\n",
       "      <td>Zea_mays</td>\n",
       "      <td>Monocots/Commelinids</td>\n",
       "      <td>Poales</td>\n",
       "    </tr>\n",
       "    <tr>\n",
       "      <th>3879</th>\n",
       "      <td>Zm00001d018206</td>\n",
       "      <td>Zea_mays</td>\n",
       "      <td>Zmays_RefGen_V4</td>\n",
       "      <td>MAASVERHLAPHPWPANAPPKSFDMFRSGGPGGKRRTGPDSDSEDE...</td>\n",
       "      <td>Zea_mays</td>\n",
       "      <td>Monocots/Commelinids</td>\n",
       "      <td>Poales</td>\n",
       "    </tr>\n",
       "    <tr>\n",
       "      <th>3880</th>\n",
       "      <td>Zm00001d017025</td>\n",
       "      <td>Zea_mays</td>\n",
       "      <td>Zmays_RefGen_V4</td>\n",
       "      <td>MSTCVEQPTHSASLDPTAAQRLPYPDLPVDILRRSSVRGSGFVAAA...</td>\n",
       "      <td>Zea_mays</td>\n",
       "      <td>Monocots/Commelinids</td>\n",
       "      <td>Poales</td>\n",
       "    </tr>\n",
       "    <tr>\n",
       "      <th>3881</th>\n",
       "      <td>Zm00001d013602</td>\n",
       "      <td>Zea_mays</td>\n",
       "      <td>Zmays_RefGen_V4</td>\n",
       "      <td>MGPRPRVCLFDYESVRQVLFNKSGHFFKDDAHPTILAMLGKGLVLV...</td>\n",
       "      <td>Zea_mays</td>\n",
       "      <td>Monocots/Commelinids</td>\n",
       "      <td>Poales</td>\n",
       "    </tr>\n",
       "    <tr>\n",
       "      <th>3882</th>\n",
       "      <td>Zm00001d017490</td>\n",
       "      <td>Zea_mays</td>\n",
       "      <td>Zmays_RefGen_V4</td>\n",
       "      <td>MAKTYPGRFKIYYVLNQVCVTFFRKFEAHCFQRHLTYTVFLLVHPP...</td>\n",
       "      <td>Zea_mays</td>\n",
       "      <td>Monocots/Commelinids</td>\n",
       "      <td>Poales</td>\n",
       "    </tr>\n",
       "  </tbody>\n",
       "</table>\n",
       "<p>3883 rows × 7 columns</p>\n",
       "</div>"
      ],
      "text/plain": [
       "              Protein      Short_species    Phyto_species   \\\n",
       "0     Acora.04G000700  Acorus_americanus  Aamericanus_v1.1   \n",
       "1     Acora.04G000700  Acorus_americanus  Aamericanus_v1.1   \n",
       "2     Acora.04G180500  Acorus_americanus  Aamericanus_v1.1   \n",
       "3     Acora.08G073800  Acorus_americanus  Aamericanus_v1.1   \n",
       "4     Acora.12G105300  Acorus_americanus  Aamericanus_v1.1   \n",
       "...               ...                ...               ...   \n",
       "3878   Zm00001d013257           Zea_mays   Zmays_RefGen_V4   \n",
       "3879   Zm00001d018206           Zea_mays   Zmays_RefGen_V4   \n",
       "3880   Zm00001d017025           Zea_mays   Zmays_RefGen_V4   \n",
       "3881   Zm00001d013602           Zea_mays   Zmays_RefGen_V4   \n",
       "3882   Zm00001d017490           Zea_mays   Zmays_RefGen_V4   \n",
       "\n",
       "                                               Sequence            Species  \\\n",
       "0     MWIHHIRGGGLIGGAVLKEISPHRIRIRIRKWIEQIEEERSDPQPI...  Acorus_americanus   \n",
       "1     MVVIVLALIFCFLVGALVFGPKASKPVARTIQQPPPGKASKLYTKA...  Acorus_americanus   \n",
       "2     MPTLTKIFSMQEISRHNERDDCWIVIDGKVYDVTSYMDEHPGGDDV...  Acorus_americanus   \n",
       "3     MESKSDLKVIAFDDVVKHNITHDCWLIIFGKVYDVTEFMSDHPGGE...  Acorus_americanus   \n",
       "4     MAALLRRLSRAAPTAFTHAFNEQPRSNPSRLFPFGATAIAGGLACL...  Acorus_americanus   \n",
       "...                                                 ...                ...   \n",
       "3878  MPTLTKLYSMKEAALHNTPDDCWVVVDGKIYDVTKYLEDHPGGADV...           Zea_mays   \n",
       "3879  MAASVERHLAPHPWPANAPPKSFDMFRSGGPGGKRRTGPDSDSEDE...           Zea_mays   \n",
       "3880  MSTCVEQPTHSASLDPTAAQRLPYPDLPVDILRRSSVRGSGFVAAA...           Zea_mays   \n",
       "3881  MGPRPRVCLFDYESVRQVLFNKSGHFFKDDAHPTILAMLGKGLVLV...           Zea_mays   \n",
       "3882  MAKTYPGRFKIYYVLNQVCVTFFRKFEAHCFQRHLTYTVFLLVHPP...           Zea_mays   \n",
       "\n",
       "               Description     Order  \n",
       "0     Monocots/Commelinids  Acorales  \n",
       "1     Monocots/Commelinids  Acorales  \n",
       "2     Monocots/Commelinids  Acorales  \n",
       "3     Monocots/Commelinids  Acorales  \n",
       "4     Monocots/Commelinids  Acorales  \n",
       "...                    ...       ...  \n",
       "3878  Monocots/Commelinids    Poales  \n",
       "3879  Monocots/Commelinids    Poales  \n",
       "3880  Monocots/Commelinids    Poales  \n",
       "3881  Monocots/Commelinids    Poales  \n",
       "3882  Monocots/Commelinids    Poales  \n",
       "\n",
       "[3883 rows x 7 columns]"
      ]
     },
     "execution_count": 19,
     "metadata": {},
     "output_type": "execute_result"
    }
   ],
   "source": [
    "phyto_df"
   ]
  },
  {
   "cell_type": "code",
   "execution_count": 12,
   "metadata": {},
   "outputs": [
    {
     "ename": "KeyError",
     "evalue": "'Scaffold_id'",
     "output_type": "error",
     "traceback": [
      "\u001b[0;31m---------------------------------------------------------------------------\u001b[0m",
      "\u001b[0;31mKeyError\u001b[0m                                  Traceback (most recent call last)",
      "File \u001b[0;32m~/Library/Python/3.10/lib/python/site-packages/pandas/core/indexes/base.py:3621\u001b[0m, in \u001b[0;36mIndex.get_loc\u001b[0;34m(self, key, method, tolerance)\u001b[0m\n\u001b[1;32m   3620\u001b[0m \u001b[39mtry\u001b[39;00m:\n\u001b[0;32m-> 3621\u001b[0m     \u001b[39mreturn\u001b[39;00m \u001b[39mself\u001b[39;49m\u001b[39m.\u001b[39;49m_engine\u001b[39m.\u001b[39;49mget_loc(casted_key)\n\u001b[1;32m   3622\u001b[0m \u001b[39mexcept\u001b[39;00m \u001b[39mKeyError\u001b[39;00m \u001b[39mas\u001b[39;00m err:\n",
      "File \u001b[0;32m~/Library/Python/3.10/lib/python/site-packages/pandas/_libs/index.pyx:136\u001b[0m, in \u001b[0;36mpandas._libs.index.IndexEngine.get_loc\u001b[0;34m()\u001b[0m\n",
      "File \u001b[0;32m~/Library/Python/3.10/lib/python/site-packages/pandas/_libs/index.pyx:163\u001b[0m, in \u001b[0;36mpandas._libs.index.IndexEngine.get_loc\u001b[0;34m()\u001b[0m\n",
      "File \u001b[0;32mpandas/_libs/hashtable_class_helper.pxi:5198\u001b[0m, in \u001b[0;36mpandas._libs.hashtable.PyObjectHashTable.get_item\u001b[0;34m()\u001b[0m\n",
      "File \u001b[0;32mpandas/_libs/hashtable_class_helper.pxi:5206\u001b[0m, in \u001b[0;36mpandas._libs.hashtable.PyObjectHashTable.get_item\u001b[0;34m()\u001b[0m\n",
      "\u001b[0;31mKeyError\u001b[0m: 'Scaffold_id'",
      "\nThe above exception was the direct cause of the following exception:\n",
      "\u001b[0;31mKeyError\u001b[0m                                  Traceback (most recent call last)",
      "\u001b[1;32m/Users/u6280883/Documents/Github_clones/PR/PR_pipline.ipynb Cell 9\u001b[0m in \u001b[0;36m<cell line: 5>\u001b[0;34m()\u001b[0m\n\u001b[1;32m      <a href='vscode-notebook-cell:/Users/u6280883/Documents/Github_clones/PR/PR_pipline.ipynb#X11sZmlsZQ%3D%3D?line=0'>1</a>\u001b[0m phyto_df \u001b[39m=\u001b[39m pd\u001b[39m.\u001b[39mread_csv(\u001b[39mf\u001b[39m\u001b[39m'\u001b[39m\u001b[39moutput/220825_phyto_nr_master_index.csv\u001b[39m\u001b[39m'\u001b[39m, sep \u001b[39m=\u001b[39m \u001b[39m'\u001b[39m\u001b[39m,\u001b[39m\u001b[39m'\u001b[39m)\n\u001b[1;32m      <a href='vscode-notebook-cell:/Users/u6280883/Documents/Github_clones/PR/PR_pipline.ipynb#X11sZmlsZQ%3D%3D?line=2'>3</a>\u001b[0m phyto_df2 \u001b[39m=\u001b[39m phyto_df\n\u001b[0;32m----> <a href='vscode-notebook-cell:/Users/u6280883/Documents/Github_clones/PR/PR_pipline.ipynb#X11sZmlsZQ%3D%3D?line=4'>5</a>\u001b[0m phyto_df2[\u001b[39m'\u001b[39m\u001b[39mHeader\u001b[39m\u001b[39m'\u001b[39m] \u001b[39m=\u001b[39m phyto_df[\u001b[39m'\u001b[39;49m\u001b[39mScaffold_id\u001b[39;49m\u001b[39m'\u001b[39;49m] \u001b[39m+\u001b[39m \u001b[39m'\u001b[39m\u001b[39m|\u001b[39m\u001b[39m'\u001b[39m \u001b[39m+\u001b[39m phyto_df[\u001b[39m'\u001b[39m\u001b[39mSpecies\u001b[39m\u001b[39m'\u001b[39m] \u001b[39m+\u001b[39m \u001b[39m'\u001b[39m\u001b[39m|\u001b[39m\u001b[39m'\u001b[39m \u001b[39m+\u001b[39m phyto_df[\u001b[39m'\u001b[39m\u001b[39mDescription\u001b[39m\u001b[39m'\u001b[39m]\u001b[39m+\u001b[39m \u001b[39m'\u001b[39m\u001b[39m|\u001b[39m\u001b[39m'\u001b[39m \u001b[39m+\u001b[39m phyto_df[\u001b[39m'\u001b[39m\u001b[39mOrder\u001b[39m\u001b[39m'\u001b[39m]\n\u001b[1;32m      <a href='vscode-notebook-cell:/Users/u6280883/Documents/Github_clones/PR/PR_pipline.ipynb#X11sZmlsZQ%3D%3D?line=6'>7</a>\u001b[0m phyto_dict \u001b[39m=\u001b[39m \u001b[39mdict\u001b[39m(\u001b[39mzip\u001b[39m(phyto_df2[\u001b[39m'\u001b[39m\u001b[39mHeader\u001b[39m\u001b[39m'\u001b[39m], phyto_df2[\u001b[39m'\u001b[39m\u001b[39mSequence\u001b[39m\u001b[39m'\u001b[39m]))\n",
      "File \u001b[0;32m~/Library/Python/3.10/lib/python/site-packages/pandas/core/frame.py:3505\u001b[0m, in \u001b[0;36mDataFrame.__getitem__\u001b[0;34m(self, key)\u001b[0m\n\u001b[1;32m   3503\u001b[0m \u001b[39mif\u001b[39;00m \u001b[39mself\u001b[39m\u001b[39m.\u001b[39mcolumns\u001b[39m.\u001b[39mnlevels \u001b[39m>\u001b[39m \u001b[39m1\u001b[39m:\n\u001b[1;32m   3504\u001b[0m     \u001b[39mreturn\u001b[39;00m \u001b[39mself\u001b[39m\u001b[39m.\u001b[39m_getitem_multilevel(key)\n\u001b[0;32m-> 3505\u001b[0m indexer \u001b[39m=\u001b[39m \u001b[39mself\u001b[39;49m\u001b[39m.\u001b[39;49mcolumns\u001b[39m.\u001b[39;49mget_loc(key)\n\u001b[1;32m   3506\u001b[0m \u001b[39mif\u001b[39;00m is_integer(indexer):\n\u001b[1;32m   3507\u001b[0m     indexer \u001b[39m=\u001b[39m [indexer]\n",
      "File \u001b[0;32m~/Library/Python/3.10/lib/python/site-packages/pandas/core/indexes/base.py:3623\u001b[0m, in \u001b[0;36mIndex.get_loc\u001b[0;34m(self, key, method, tolerance)\u001b[0m\n\u001b[1;32m   3621\u001b[0m     \u001b[39mreturn\u001b[39;00m \u001b[39mself\u001b[39m\u001b[39m.\u001b[39m_engine\u001b[39m.\u001b[39mget_loc(casted_key)\n\u001b[1;32m   3622\u001b[0m \u001b[39mexcept\u001b[39;00m \u001b[39mKeyError\u001b[39;00m \u001b[39mas\u001b[39;00m err:\n\u001b[0;32m-> 3623\u001b[0m     \u001b[39mraise\u001b[39;00m \u001b[39mKeyError\u001b[39;00m(key) \u001b[39mfrom\u001b[39;00m \u001b[39merr\u001b[39;00m\n\u001b[1;32m   3624\u001b[0m \u001b[39mexcept\u001b[39;00m \u001b[39mTypeError\u001b[39;00m:\n\u001b[1;32m   3625\u001b[0m     \u001b[39m# If we have a listlike key, _check_indexing_error will raise\u001b[39;00m\n\u001b[1;32m   3626\u001b[0m     \u001b[39m#  InvalidIndexError. Otherwise we fall through and re-raise\u001b[39;00m\n\u001b[1;32m   3627\u001b[0m     \u001b[39m#  the TypeError.\u001b[39;00m\n\u001b[1;32m   3628\u001b[0m     \u001b[39mself\u001b[39m\u001b[39m.\u001b[39m_check_indexing_error(key)\n",
      "\u001b[0;31mKeyError\u001b[0m: 'Scaffold_id'"
     ]
    }
   ],
   "source": [
    "phyto_df = pd.read_csv(f'output/220825_phyto_nr_master_index.csv', sep = ',')\n",
    "\n",
    "phyto_df2 = phyto_df\n",
    "\n",
    "phyto_df2['Header'] = phyto_df['Scaffold_id'] + '|' + phyto_df['Species'] + '|' + phyto_df['Description']+ '|' + phyto_df['Order']\n",
    "\n",
    "phyto_dict = dict(zip(phyto_df2['Header'], phyto_df2['Sequence']))\n",
    "\n",
    "with open(f'output/{DATE}_NR_phyto_residueCheck.fasta', 'w') as form: # Creates a fasta file with informative header\n",
    "                                                                # for use going forward\n",
    "    for k,v in phyto_dict.items(): \n",
    "        form.write('>' + k + '\\n' + v +'\\n')\n",
    "\n",
    "print(f'Number of sequences in output/{DATE}_NR_phyto_residueCheck.fasta: {len(phyto_dict)}')"
   ]
  },
  {
   "cell_type": "code",
   "execution_count": 4,
   "metadata": {},
   "outputs": [
    {
     "name": "stdout",
     "output_type": "stream",
     "text": [
      "459 were kept, output was written to 220712_phyto_cleaned.fasta. 20 sequences were dropped and written to output/220712_phyto_cleaner_dropped_seq.fasta\n",
      "There were 22 instances of duplicate or ambiguous sequences.\n",
      "output/220712_phyto_cleaned.fasta\n"
     ]
    }
   ],
   "source": [
    "cleaner(f'output/{DATE}_NR_phyto_residueCheck.fasta', 'phyto')"
   ]
  },
  {
   "cell_type": "code",
   "execution_count": 5,
   "metadata": {},
   "outputs": [
    {
     "data": {
      "image/png": "[encoded data removed]",
      "text/plain": [
       "<Figure size 360x360 with 1 Axes>"
      ]
     },
     "metadata": {
      "needs_background": "light"
     },
     "output_type": "display_data"
    }
   ],
   "source": [
    "len_distro(f'output/{DATE}_phyto_cleaned.fasta')"
   ]
  },
  {
   "cell_type": "code",
   "execution_count": 6,
   "metadata": {},
   "outputs": [
    {
     "name": "stdout",
     "output_type": "stream",
     "text": [
      "Seqeunces from output/220712_phyto_cleaned.fasta were filtered to those greater than 700 aa\n",
      "297 filtered sequences were outputed to \"output/220712_phyto_size_filt.fasta\"\n"
     ]
    }
   ],
   "source": [
    "size_filter(f'output/{DATE}_phyto_cleaned.fasta', 'phyto', 'greater', 700)"
   ]
  },
  {
   "cell_type": "code",
   "execution_count": 53,
   "metadata": {},
   "outputs": [
    {
     "data": {
      "image/png": "[encoded data removed]",
      "text/plain": [
       "<Figure size 500x500 with 1 Axes>"
      ]
     },
     "metadata": {},
     "output_type": "display_data"
    }
   ],
   "source": [
    "len_distro(f'output/220712_phyto_size_filt.fasta')"
   ]
  },
  {
   "cell_type": "code",
   "execution_count": 9,
   "metadata": {},
   "outputs": [
    {
     "name": "stdout",
     "output_type": "stream",
     "text": [
      "[('MA', 235), ('MG', 16), ('MT', 13), ('MS', 9), ('MD', 4), ('ME', 4), ('MH', 4), ('ML', 3), ('MP', 2), ('QA', 1)]\n",
      "The most common aa at n-terminal is \"MA\" and its freq. is: \n",
      "0.791\n"
     ]
    },
    {
     "data": {
      "image/png": "[encoded data removed]",
      "text/plain": [
       "<Figure size 1000x500 with 1 Axes>"
      ]
     },
     "metadata": {},
     "output_type": "display_data"
    }
   ],
   "source": [
    "chart(f'output/220712_phyto_size_filt.fasta', 2, 'n', 10, 5)"
   ]
  },
  {
   "cell_type": "code",
   "execution_count": null,
   "metadata": {},
   "outputs": [],
   "source": []
  },
  {
   "cell_type": "code",
   "execution_count": 11,
   "metadata": {},
   "outputs": [
    {
     "name": "stdout",
     "output_type": "stream",
     "text": [
      "[('VF', 129), ('IF', 97), ('SF', 18), ('LF', 16), ('QF', 9), ('EF', 8), ('TF', 4), ('VL', 4), ('AF', 2), ('LY', 2)]\n",
      "The most common aa at c-terminal is \"VF\" and its freq. is: \n",
      "0.434\n"
     ]
    },
    {
     "data": {
      "image/png": "[encoded data removed]",
      "text/plain": [
       "<Figure size 1000x500 with 1 Axes>"
      ]
     },
     "metadata": {},
     "output_type": "display_data"
    }
   ],
   "source": [
    "chart(f'output/220712_phyto_size_filt.fasta', 2, 'c', 10, 5)"
   ]
  },
  {
   "cell_type": "code",
   "execution_count": null,
   "metadata": {},
   "outputs": [],
   "source": [
    "#terminal_filter(f'output/220323_phyto_size_filt.fasta', 'phyto', 'n', 'M')"
   ]
  },
  {
   "cell_type": "code",
   "execution_count": null,
   "metadata": {},
   "outputs": [],
   "source": [
    "#terminal_filter(f'output/220323_NR_phyto_n-terminalCodon.fasta', 'phyto', 'c', 'F', 'Y', 'L')"
   ]
  },
  {
   "cell_type": "code",
   "execution_count": null,
   "metadata": {},
   "outputs": [],
   "source": [
    "#chart(f'output/220323_NR_phyto_c-terminalCodon.fasta', 1, 'c', 10, 5)"
   ]
  },
  {
   "cell_type": "markdown",
   "metadata": {},
   "source": [
    "# 1kp processing"
   ]
  },
  {
   "cell_type": "code",
   "execution_count": 12,
   "metadata": {},
   "outputs": [],
   "source": [
    "# Format details file, create master index\n",
    "details = pd.read_csv('source_data/211014_NR_1kp_details_formatted.csv', sep = ',')\n",
    "species_1kp = pd.read_csv('source_data/211020_species_taxonomy.csv', sep = ',')\n",
    "NR_1kp_index = pd.merge(details, species_1kp, how = 'inner', on='Onekp_index_id') # Merges dataframes\n",
    "NR_1kp_index['Scaffold_id'] = NR_1kp_index['Onekp_index_id'] + '_' + NR_1kp_index['Seq_id'].astype(str) # Creates a new column\n",
    "\n",
    "temp_dict = {}\n",
    "\n",
    "for seq_record in SeqIO.parse('source_data/210719_NR_1kp.fasta', 'fasta'):\n",
    "    sequence = str(seq_record.seq).upper() # Converts sequence to uppercase string\n",
    "    temp_dict[seq_record.id] = sequence # Adds to dict with header as key and sequence as value\n",
    "\n",
    "with open('output/temp.fasta', 'w') as filt: # Splits header and takes relevant elements, writes a temp fasta file\n",
    "    for k,v in temp_dict.items(): \n",
    "\n",
    "        header = k.split('|')\n",
    "        h = header[2]\n",
    "        h2 = h.split('_')\n",
    "        h3 = h2[0]\n",
    "        h4 = h2[2]\n",
    "        filt.write('>' + h3 + '_' + h4 + '\\n' + v + '\\n')\n",
    "\n",
    "onekp_dict = {}\n",
    "\n",
    "for seq_record in SeqIO.parse('output/temp.fasta', 'fasta'):\n",
    "    sequence = str(seq_record.seq).upper() # Converts sequence to uppercase string\n",
    "    onekp_dict[seq_record.id] = sequence # Adds to dict with header as key and sequence as value\n",
    "\n",
    "seq_df = pd.DataFrame.from_dict(onekp_dict, orient = 'index')\n",
    "seq_df = seq_df.reset_index()\n",
    "seq_df.columns = ['Scaffold_id', 'Sequence']\n",
    "\n",
    "NR_1kp_master_index = pd.merge(NR_1kp_index, seq_df, how = 'left', on = 'Scaffold_id')\n",
    "\n",
    "NR_1kp_master_index.to_csv(f'output/{date}_NR_1kp_master_index.txt', sep = '\\t', index = False)\n",
    "os.remove('output/temp.fasta')\n",
    "\n",
    "# Make a fasta file from the master index with the Scaffold_id, Species, and Tax_1 as the header\n",
    "onekp_df = pd.read_csv(f'output/{DATE}_NR_1kp_master_index.txt', sep = '\\t')\n",
    "\n",
    "onekp_df2 = onekp_df\n",
    "\n",
    "onekp_df2['Header'] = onekp_df['Scaffold_id'] + '|' + onekp_df['Species'] + '|' + onekp_df['Description']+ '|' + onekp_df['Order']\n",
    "\n",
    "onekp_dict = dict(zip(onekp_df2['Header'], onekp_df2['Sequence']))\n",
    "\n",
    "with open(f'output/{DATE}_NR_1kp_formatted.fasta', 'w') as form: # Creates a fasta file with informative header\n",
    "                                                                # for use going forward\n",
    "    for k,v in onekp_dict.items(): \n",
    "        form.write('>' + k + '\\n' + v +'\\n')\n"
   ]
  },
  {
   "cell_type": "markdown",
   "metadata": {},
   "source": [
    "# Function list\n",
    "Run these for to execute the pipeline"
   ]
  },
  {
   "cell_type": "code",
   "execution_count": 13,
   "metadata": {},
   "outputs": [
    {
     "name": "stdout",
     "output_type": "stream",
     "text": [
      "6482 were kept, output was written to 220712_1kp_cleaned.fasta. 206 sequences were dropped and written to output/220712_1kp_cleaner_dropped_seq.fasta\n",
      "There were 229 instances of duplicate or ambiguous sequences.\n",
      "output/220712_1kp_cleaned.fasta\n"
     ]
    }
   ],
   "source": [
    "cleaner(f'output/{DATE}_NR_1kp_formatted.fasta', '1kp')"
   ]
  },
  {
   "cell_type": "code",
   "execution_count": 14,
   "metadata": {},
   "outputs": [
    {
     "data": {
      "image/png": "[encoded data removed]",
      "text/plain": [
       "<Figure size 500x500 with 1 Axes>"
      ]
     },
     "metadata": {},
     "output_type": "display_data"
    }
   ],
   "source": [
    "len_distro(f'output/{DATE}_1kp_cleaned.fasta')"
   ]
  },
  {
   "cell_type": "code",
   "execution_count": 15,
   "metadata": {},
   "outputs": [
    {
     "name": "stdout",
     "output_type": "stream",
     "text": [
      "Seqeunces from output/220712_1kp_cleaned.fasta were filtered to those greater than 700 aa\n",
      "513 filtered sequences were outputed to \"output/220712_1kp_size_filt.fasta\"\n"
     ]
    }
   ],
   "source": [
    "size_filter(f'output/{DATE}_1kp_cleaned.fasta', '1kp', 'greater', 700)"
   ]
  },
  {
   "cell_type": "code",
   "execution_count": 16,
   "metadata": {},
   "outputs": [
    {
     "data": {
      "image/png": "[encoded data removed]",
      "text/plain": [
       "<Figure size 500x500 with 1 Axes>"
      ]
     },
     "metadata": {},
     "output_type": "display_data"
    }
   ],
   "source": [
    "len_distro(f'output/{DATE}_1kp_size_filt.fasta')"
   ]
  },
  {
   "cell_type": "code",
   "execution_count": 17,
   "metadata": {},
   "outputs": [
    {
     "name": "stdout",
     "output_type": "stream",
     "text": [
      "[('MA', 254), ('VD', 31), ('EE', 15), ('DD', 12), ('VT', 10), ('DE', 9), ('DP', 8), ('ED', 6), ('RP', 6), ('VM', 5)]\n",
      "The most common aa at n-terminal is \"MA\" and its freq. is: \n",
      "0.495\n"
     ]
    },
    {
     "data": {
      "image/png": "[encoded data removed]",
      "text/plain": [
       "<Figure size 1000x500 with 1 Axes>"
      ]
     },
     "metadata": {},
     "output_type": "display_data"
    }
   ],
   "source": [
    "chart(f'output/{DATE}_1kp_size_filt.fasta', 2, 'n', 10, 5)"
   ]
  },
  {
   "cell_type": "code",
   "execution_count": 20,
   "metadata": {},
   "outputs": [
    {
     "name": "stdout",
     "output_type": "stream",
     "text": [
      "[('VF', 230), ('IF', 57), ('QF', 44), ('YD', 35), ('LF', 28), ('EF', 18), ('SF', 17), ('GY', 16), ('TF', 10), ('SL', 5)]\n",
      "The most common aa at c-terminal is \"VF\" and its freq. is: \n",
      "0.448\n"
     ]
    },
    {
     "data": {
      "image/png": "[encoded data removed]",
      "text/plain": [
       "<Figure size 1000x1000 with 1 Axes>"
      ]
     },
     "metadata": {},
     "output_type": "display_data"
    }
   ],
   "source": [
    "chart(f'output/{DATE}_1kp_size_filt.fasta', 2, 'c', 10, 10)"
   ]
  },
  {
   "cell_type": "code",
   "execution_count": null,
   "metadata": {},
   "outputs": [],
   "source": [
    "#terminal_filter(f'output/220323_1kp_size_filt.fasta', '1kp', 'n', 'M')"
   ]
  },
  {
   "cell_type": "code",
   "execution_count": null,
   "metadata": {},
   "outputs": [],
   "source": [
    "#terminal_filter(f'output/220323_NR_1kp_n-terminalCodon.fasta', '1kp', 'c', 'F', 'Y', 'L')"
   ]
  },
  {
   "cell_type": "code",
   "execution_count": null,
   "metadata": {},
   "outputs": [],
   "source": [
    "#chart(f'output/220323_NR_1kp_c-terminalCodon.fasta', 1, 'c', 10, 5)"
   ]
  },
  {
   "cell_type": "markdown",
   "metadata": {},
   "source": [
    "# Merge the fasta files from both data sources"
   ]
  },
  {
   "cell_type": "markdown",
   "metadata": {},
   "source": [
    "When merging I need to make sure that if the species is found in phytozome that I remove the 1kp equiv"
   ]
  },
  {
   "cell_type": "code",
   "execution_count": 21,
   "metadata": {},
   "outputs": [],
   "source": [
    "with open(f'output/{DATE}_NR_dataset.fasta', 'a+') as dataset:\n",
    "    with open(f'output/{DATE}_1kp_size_filt.fasta', 'r') as onekp:\n",
    "    #with open(f'output/{DATE}_NR_1kp_c-terminalCodon.fasta', 'r') as onekp:\n",
    "        for line in onekp:\n",
    "            dataset.write(line)\n",
    "    with open(f'output/{DATE}_phyto_cleaned.fasta', 'r') as phyto:\n",
    "    #with open(f'output/{DATE}_NR_phyto_c-terminalCodon.fasta', 'r') as phyto:\n",
    "        for line in phyto:\n",
    "            dataset.write(line)   "
   ]
  },
  {
   "cell_type": "code",
   "execution_count": 22,
   "metadata": {},
   "outputs": [
    {
     "name": "stdout",
     "output_type": "stream",
     "text": [
      "972 were kept, output was written to 220712_phyto_1kp_cleaned.fasta. 0 sequences were dropped and written to output/220712_phyto_1kp_cleaner_dropped_seq.fasta\n",
      "There were 0 instances of duplicate or ambiguous sequences.\n",
      "output/220712_phyto_1kp_cleaned.fasta\n"
     ]
    }
   ],
   "source": [
    "cleaner(f'output/{DATE}_NR_dataset.fasta', 'phyto_1kp')"
   ]
  },
  {
   "cell_type": "markdown",
   "metadata": {},
   "source": [
    "No sequences were dropped from above so will use 211021_NR_dataset.fasta as the dataset"
   ]
  },
  {
   "cell_type": "markdown",
   "metadata": {},
   "source": [
    "# Merge the index files"
   ]
  },
  {
   "cell_type": "code",
   "execution_count": 4,
   "metadata": {},
   "outputs": [],
   "source": [
    "onekp = pd.read_csv(\"output/220712_NR_1kp_master_index.txt\", sep = \"\\t\")\n",
    "phyto = pd.read_csv(\"output/211021_NR_phyto_master_index.csv\")\n",
    "\n",
    "onekp['Data_source'] = \"1kp\"\n",
    "phyto['Data_source'] = \"phyto\""
   ]
  },
  {
   "cell_type": "code",
   "execution_count": 5,
   "metadata": {},
   "outputs": [
    {
     "data": {
      "text/html": [
       "<div>\n",
       "<style scoped>\n",
       "    .dataframe tbody tr th:only-of-type {\n",
       "        vertical-align: middle;\n",
       "    }\n",
       "\n",
       "    .dataframe tbody tr th {\n",
       "        vertical-align: top;\n",
       "    }\n",
       "\n",
       "    .dataframe thead th {\n",
       "        text-align: right;\n",
       "    }\n",
       "</style>\n",
       "<table border=\"1\" class=\"dataframe\">\n",
       "  <thead>\n",
       "    <tr style=\"text-align: right;\">\n",
       "      <th></th>\n",
       "      <th>Onekp_index_id</th>\n",
       "      <th>Seq_id</th>\n",
       "      <th>Subject Scientific Name</th>\n",
       "      <th>Subject Taxonomy ID</th>\n",
       "      <th>Percentage of identical matches</th>\n",
       "      <th>Alignment length</th>\n",
       "      <th>Number of mismatches</th>\n",
       "      <th>Number of gap openings</th>\n",
       "      <th>Start of alignment in query</th>\n",
       "      <th>End of alignment in query</th>\n",
       "      <th>...</th>\n",
       "      <th>Total number of gap</th>\n",
       "      <th>Expect value</th>\n",
       "      <th>Bit score</th>\n",
       "      <th>Phyto_species</th>\n",
       "      <th>Species</th>\n",
       "      <th>Description</th>\n",
       "      <th>Order</th>\n",
       "      <th>Scaffold_id</th>\n",
       "      <th>Sequence</th>\n",
       "      <th>Data_source</th>\n",
       "    </tr>\n",
       "  </thead>\n",
       "  <tbody>\n",
       "    <tr>\n",
       "      <th>0</th>\n",
       "      <td>DLJZ</td>\n",
       "      <td>2059039</td>\n",
       "      <td>Solanum ptychanthum</td>\n",
       "      <td>45838</td>\n",
       "      <td>97.149</td>\n",
       "      <td>912</td>\n",
       "      <td>25</td>\n",
       "      <td>1</td>\n",
       "      <td>1</td>\n",
       "      <td>911</td>\n",
       "      <td>...</td>\n",
       "      <td>1</td>\n",
       "      <td>0</td>\n",
       "      <td>1854</td>\n",
       "      <td>NaN</td>\n",
       "      <td>Solanum_ptychanthum</td>\n",
       "      <td>Core_eudicots/Asterids</td>\n",
       "      <td>Solanales</td>\n",
       "      <td>DLJZ_2059039</td>\n",
       "      <td>MAASVENRQFSHLEPGLSGVGRTFKPRSDSPVRGCNFPPSSKHELP...</td>\n",
       "      <td>1kp</td>\n",
       "    </tr>\n",
       "    <tr>\n",
       "      <th>1</th>\n",
       "      <td>DLJZ</td>\n",
       "      <td>2057353</td>\n",
       "      <td>Solanum ptychanthum</td>\n",
       "      <td>45838</td>\n",
       "      <td>31.552</td>\n",
       "      <td>393</td>\n",
       "      <td>225</td>\n",
       "      <td>12</td>\n",
       "      <td>109</td>\n",
       "      <td>481</td>\n",
       "      <td>...</td>\n",
       "      <td>44</td>\n",
       "      <td>0</td>\n",
       "      <td>206</td>\n",
       "      <td>NaN</td>\n",
       "      <td>Solanum_ptychanthum</td>\n",
       "      <td>Core_eudicots/Asterids</td>\n",
       "      <td>Solanales</td>\n",
       "      <td>DLJZ_2057353</td>\n",
       "      <td>MPGIKGPSDYSREPPRHPCLKINSKEPFNAEPTRSALISSYVTPVD...</td>\n",
       "      <td>1kp</td>\n",
       "    </tr>\n",
       "    <tr>\n",
       "      <th>2</th>\n",
       "      <td>DLJZ</td>\n",
       "      <td>2054501</td>\n",
       "      <td>Solanum ptychanthum</td>\n",
       "      <td>45838</td>\n",
       "      <td>40.467</td>\n",
       "      <td>257</td>\n",
       "      <td>127</td>\n",
       "      <td>8</td>\n",
       "      <td>649</td>\n",
       "      <td>902</td>\n",
       "      <td>...</td>\n",
       "      <td>26</td>\n",
       "      <td>0</td>\n",
       "      <td>190</td>\n",
       "      <td>NaN</td>\n",
       "      <td>Solanum_ptychanthum</td>\n",
       "      <td>Core_eudicots/Asterids</td>\n",
       "      <td>Solanales</td>\n",
       "      <td>DLJZ_2054501</td>\n",
       "      <td>MEFLERPDAQLIIGVAVAAVAVGATAYFYFSSKKSKVCLNPEEFRA...</td>\n",
       "      <td>1kp</td>\n",
       "    </tr>\n",
       "    <tr>\n",
       "      <th>3</th>\n",
       "      <td>DLJZ</td>\n",
       "      <td>2002023</td>\n",
       "      <td>Solanum ptychanthum</td>\n",
       "      <td>45838</td>\n",
       "      <td>34.752</td>\n",
       "      <td>282</td>\n",
       "      <td>144</td>\n",
       "      <td>7</td>\n",
       "      <td>615</td>\n",
       "      <td>890</td>\n",
       "      <td>...</td>\n",
       "      <td>40</td>\n",
       "      <td>0</td>\n",
       "      <td>154</td>\n",
       "      <td>NaN</td>\n",
       "      <td>Solanum_ptychanthum</td>\n",
       "      <td>Core_eudicots/Asterids</td>\n",
       "      <td>Solanales</td>\n",
       "      <td>DLJZ_2002023</td>\n",
       "      <td>MAAFLRKLAKAAPVAFSEAFRGDSKSNFADPRFPFGAIAAVAGCVS...</td>\n",
       "      <td>1kp</td>\n",
       "    </tr>\n",
       "    <tr>\n",
       "      <th>4</th>\n",
       "      <td>DLJZ</td>\n",
       "      <td>2050677</td>\n",
       "      <td>Solanum ptychanthum</td>\n",
       "      <td>45838</td>\n",
       "      <td>46.250</td>\n",
       "      <td>80</td>\n",
       "      <td>42</td>\n",
       "      <td>1</td>\n",
       "      <td>532</td>\n",
       "      <td>610</td>\n",
       "      <td>...</td>\n",
       "      <td>1</td>\n",
       "      <td>0</td>\n",
       "      <td>84</td>\n",
       "      <td>NaN</td>\n",
       "      <td>Solanum_ptychanthum</td>\n",
       "      <td>Core_eudicots/Asterids</td>\n",
       "      <td>Solanales</td>\n",
       "      <td>DLJZ_2050677</td>\n",
       "      <td>MPTLTKLFTMEEAAQHNTKDDCWVVIDGKVYDVSSYLDEHPGGDDV...</td>\n",
       "      <td>1kp</td>\n",
       "    </tr>\n",
       "  </tbody>\n",
       "</table>\n",
       "<p>5 rows × 22 columns</p>\n",
       "</div>"
      ],
      "text/plain": [
       "  Onekp_index_id   Seq_id Subject Scientific Name  Subject Taxonomy ID  \\\n",
       "0           DLJZ  2059039     Solanum ptychanthum                45838   \n",
       "1           DLJZ  2057353     Solanum ptychanthum                45838   \n",
       "2           DLJZ  2054501     Solanum ptychanthum                45838   \n",
       "3           DLJZ  2002023     Solanum ptychanthum                45838   \n",
       "4           DLJZ  2050677     Solanum ptychanthum                45838   \n",
       "\n",
       "   Percentage of identical matches  Alignment length  Number of mismatches  \\\n",
       "0                           97.149               912                    25   \n",
       "1                           31.552               393                   225   \n",
       "2                           40.467               257                   127   \n",
       "3                           34.752               282                   144   \n",
       "4                           46.250                80                    42   \n",
       "\n",
       "   Number of gap openings  Start of alignment in query  \\\n",
       "0                       1                            1   \n",
       "1                      12                          109   \n",
       "2                       8                          649   \n",
       "3                       7                          615   \n",
       "4                       1                          532   \n",
       "\n",
       "   End of alignment in query  ...  Total number of gap  Expect value  \\\n",
       "0                        911  ...                    1             0   \n",
       "1                        481  ...                   44             0   \n",
       "2                        902  ...                   26             0   \n",
       "3                        890  ...                   40             0   \n",
       "4                        610  ...                    1             0   \n",
       "\n",
       "   Bit score  Phyto_species              Species             Description  \\\n",
       "0       1854            NaN  Solanum_ptychanthum  Core_eudicots/Asterids   \n",
       "1        206            NaN  Solanum_ptychanthum  Core_eudicots/Asterids   \n",
       "2        190            NaN  Solanum_ptychanthum  Core_eudicots/Asterids   \n",
       "3        154            NaN  Solanum_ptychanthum  Core_eudicots/Asterids   \n",
       "4         84            NaN  Solanum_ptychanthum  Core_eudicots/Asterids   \n",
       "\n",
       "       Order   Scaffold_id                                           Sequence  \\\n",
       "0  Solanales  DLJZ_2059039  MAASVENRQFSHLEPGLSGVGRTFKPRSDSPVRGCNFPPSSKHELP...   \n",
       "1  Solanales  DLJZ_2057353  MPGIKGPSDYSREPPRHPCLKINSKEPFNAEPTRSALISSYVTPVD...   \n",
       "2  Solanales  DLJZ_2054501  MEFLERPDAQLIIGVAVAAVAVGATAYFYFSSKKSKVCLNPEEFRA...   \n",
       "3  Solanales  DLJZ_2002023  MAAFLRKLAKAAPVAFSEAFRGDSKSNFADPRFPFGAIAAVAGCVS...   \n",
       "4  Solanales  DLJZ_2050677  MPTLTKLFTMEEAAQHNTKDDCWVVIDGKVYDVSSYLDEHPGGDDV...   \n",
       "\n",
       "  Data_source  \n",
       "0         1kp  \n",
       "1         1kp  \n",
       "2         1kp  \n",
       "3         1kp  \n",
       "4         1kp  \n",
       "\n",
       "[5 rows x 22 columns]"
      ]
     },
     "execution_count": 5,
     "metadata": {},
     "output_type": "execute_result"
    }
   ],
   "source": [
    "onekp.head()"
   ]
  },
  {
   "cell_type": "code",
   "execution_count": 6,
   "metadata": {},
   "outputs": [
    {
     "data": {
      "text/html": [
       "<div>\n",
       "<style scoped>\n",
       "    .dataframe tbody tr th:only-of-type {\n",
       "        vertical-align: middle;\n",
       "    }\n",
       "\n",
       "    .dataframe tbody tr th {\n",
       "        vertical-align: top;\n",
       "    }\n",
       "\n",
       "    .dataframe thead th {\n",
       "        text-align: right;\n",
       "    }\n",
       "</style>\n",
       "<table border=\"1\" class=\"dataframe\">\n",
       "  <thead>\n",
       "    <tr style=\"text-align: right;\">\n",
       "      <th></th>\n",
       "      <th>Protein</th>\n",
       "      <th>Short_species</th>\n",
       "      <th>Species</th>\n",
       "      <th>Phyto_species</th>\n",
       "      <th>Sequence</th>\n",
       "      <th>Scaffold_id</th>\n",
       "      <th>Description</th>\n",
       "      <th>Order</th>\n",
       "      <th>Data_source</th>\n",
       "    </tr>\n",
       "  </thead>\n",
       "  <tbody>\n",
       "    <tr>\n",
       "      <th>0</th>\n",
       "      <td>Acora.12G059500</td>\n",
       "      <td>A_americanus</td>\n",
       "      <td>Acorus_americanus</td>\n",
       "      <td>Aamericanus_v1.1</td>\n",
       "      <td>MLGVRGPSDYTHEPPRHPCLRINAKEPFNAEPPRDALVSSFITPVD...</td>\n",
       "      <td>PHYT_3431815</td>\n",
       "      <td>Monocots/Commelinids</td>\n",
       "      <td>Acorales</td>\n",
       "      <td>phyto</td>\n",
       "    </tr>\n",
       "    <tr>\n",
       "      <th>1</th>\n",
       "      <td>Acora.11G193600</td>\n",
       "      <td>A_americanus</td>\n",
       "      <td>Acorus_americanus</td>\n",
       "      <td>Aamericanus_v1.1</td>\n",
       "      <td>MAASVDKRQFNHLEPPFTIFPSPPPQTFKDSSDSDSDSDPDHHEWK...</td>\n",
       "      <td>PHYT_2362616</td>\n",
       "      <td>Monocots/Commelinids</td>\n",
       "      <td>Acorales</td>\n",
       "      <td>phyto</td>\n",
       "    </tr>\n",
       "    <tr>\n",
       "      <th>2</th>\n",
       "      <td>Acora.03G182000</td>\n",
       "      <td>A_americanus</td>\n",
       "      <td>Acorus_americanus</td>\n",
       "      <td>Aamericanus_v1.1</td>\n",
       "      <td>MPGIRGPSDYSREPPRHPILQINAKAPFNAEPPRGALVSSFITPVD...</td>\n",
       "      <td>PHYT_3832029</td>\n",
       "      <td>Monocots/Commelinids</td>\n",
       "      <td>Acorales</td>\n",
       "      <td>phyto</td>\n",
       "    </tr>\n",
       "    <tr>\n",
       "      <th>3</th>\n",
       "      <td>Aqcoe6G016900</td>\n",
       "      <td>A_coerulea</td>\n",
       "      <td>Aquilegia_coerulea</td>\n",
       "      <td>Acoerulea_v3.1</td>\n",
       "      <td>MAASVQTRQFNGTDSQFRGGGCNFISTLEKKPVIQQKDYYYSSSED...</td>\n",
       "      <td>PHYT_1302463</td>\n",
       "      <td>Eudicots</td>\n",
       "      <td>Ranunculales</td>\n",
       "      <td>phyto</td>\n",
       "    </tr>\n",
       "    <tr>\n",
       "      <th>4</th>\n",
       "      <td>Aqcoe4G284100</td>\n",
       "      <td>A_coerulea</td>\n",
       "      <td>Aquilegia_coerulea</td>\n",
       "      <td>Acoerulea_v3.1</td>\n",
       "      <td>MAASVRSRQFNGTDSPFRGGGGGGVGGNFISTLPTKPPKDCYYSST...</td>\n",
       "      <td>PHYT_2618647</td>\n",
       "      <td>Eudicots</td>\n",
       "      <td>Ranunculales</td>\n",
       "      <td>phyto</td>\n",
       "    </tr>\n",
       "  </tbody>\n",
       "</table>\n",
       "</div>"
      ],
      "text/plain": [
       "           Protein Short_species             Species     Phyto_species  \\\n",
       "0  Acora.12G059500  A_americanus   Acorus_americanus  Aamericanus_v1.1   \n",
       "1  Acora.11G193600  A_americanus   Acorus_americanus  Aamericanus_v1.1   \n",
       "2  Acora.03G182000  A_americanus   Acorus_americanus  Aamericanus_v1.1   \n",
       "3    Aqcoe6G016900    A_coerulea  Aquilegia_coerulea    Acoerulea_v3.1   \n",
       "4    Aqcoe4G284100    A_coerulea  Aquilegia_coerulea    Acoerulea_v3.1   \n",
       "\n",
       "                                            Sequence   Scaffold_id  \\\n",
       "0  MLGVRGPSDYTHEPPRHPCLRINAKEPFNAEPPRDALVSSFITPVD...  PHYT_3431815   \n",
       "1  MAASVDKRQFNHLEPPFTIFPSPPPQTFKDSSDSDSDSDPDHHEWK...  PHYT_2362616   \n",
       "2  MPGIRGPSDYSREPPRHPILQINAKAPFNAEPPRGALVSSFITPVD...  PHYT_3832029   \n",
       "3  MAASVQTRQFNGTDSQFRGGGCNFISTLEKKPVIQQKDYYYSSSED...  PHYT_1302463   \n",
       "4  MAASVRSRQFNGTDSPFRGGGGGGVGGNFISTLPTKPPKDCYYSST...  PHYT_2618647   \n",
       "\n",
       "            Description         Order Data_source  \n",
       "0  Monocots/Commelinids      Acorales       phyto  \n",
       "1  Monocots/Commelinids      Acorales       phyto  \n",
       "2  Monocots/Commelinids      Acorales       phyto  \n",
       "3              Eudicots  Ranunculales       phyto  \n",
       "4              Eudicots  Ranunculales       phyto  "
      ]
     },
     "execution_count": 6,
     "metadata": {},
     "output_type": "execute_result"
    }
   ],
   "source": [
    "phyto.head()"
   ]
  },
  {
   "cell_type": "code",
   "execution_count": 7,
   "metadata": {},
   "outputs": [
    {
     "name": "stdout",
     "output_type": "stream",
     "text": [
      "Species unique to 1kp dataset:\n",
      "{'Anemia_tomentosa', 'Asplenium_platyneuron', 'Catharanthus_roseus', 'Alsophila_pinulosa', 'Serenoa_repens', 'Bacopa_caroliniana', 'Cyanastrum_cordifolium', 'Ipomoea_coccinea', 'Thalictrum_thalictroides', 'Illicium_floridanum', 'Cercis_canadensis', 'Aristida_stricta', 'Polanisia_trachysperma', 'Cryptogramma_acrostichoides', 'Sabal_bermudana', 'Cochlearia_officinalis', 'Ilex_sp.', 'Ludovia_sp.', 'Cyperus_papyrus', 'Salix_dasyclados', 'Scaevola_mossambicensis', 'Polypremum_procumbens', 'Marattia_attenuata', 'Pistia_stratiotes', 'Paulownia_fargesii', 'Galium_boreale', 'Plantago_maritima', 'Larrea_tridentata', 'Francoa_appendiculata', 'Quillaja_saponaria', 'Acacia_argyrophylla', 'Holarrhena_pubescens', 'Isoetes_sp.', 'Santalum_acuminatum', 'Tropaeolum_peregrinum', 'Peltoboykinia_watanabei', 'Pinus_ponderosa', 'unknown', 'Torreya_taxifolia', 'Ajuga_reptans', 'Oncidium_sphacelatum', 'Peperomia_fraseri', 'Myrica_cerifera', 'Racomitrium_elongatum', 'Glycyrrhiza_lepidota', 'Convolvulus_arvensis', 'Juncus_inflexus', 'Porella_navicularis', 'Kadsura_heteroclita', 'Ceratophyllum_demersum', 'Pinguicula_caudata', 'Nothotsuga_longibracteata', 'Neurachne_alopecuroidea', 'Anticharis_glandulosa', 'Basella_alba', 'Ruellia_brittoniana', 'Talbotia_elegans', 'Nolina_atopocarpa', 'Aloe_vera', 'Buddleja_sp.', 'Portulaca_grandiflora', 'Phyla_dulcis', 'Mitella_pentandra', 'Heliotropium_karwinskyi', 'Bergenia_sp.', 'Celsia_arcturus', 'Schizolaena_sp.', 'Notholaena_montieliae', 'Pseudolarix_amabilis', 'Rhamnus_caroliniana', 'Lycium_sp.', 'Griselinia_racemosa', 'Smilax_bona-nox', 'Oenothera_clelandii', 'Moringa_oleifera', 'Portulaca_umbraticola', 'Physocarpus_opulifolius', 'Dichroa_febrifuga', 'Barbilophozia_barbata', 'Vittaria_lineata', 'Aucuba_japonica', 'Exocarpos_cupressiformis', 'Psychotria_marginata', 'Senna_hebecarpa', 'Ipomoea_quamoclit', 'Apocynum_androsaemifolium', 'Zingiber_officinale', 'Rhamnus_japonica', 'Ipomoea_lindheimeri', 'Cissus_quadrangularis', 'Xerophyllum_asphodeloides', 'Asparagus_densiflorus', 'Gleditsia_sinensis', 'Lantana_camara', 'Uvaria_microcarpa', 'Austrocedrus_chilensis', 'Rhodophiala_pratensis', 'Stylidium_adnatum', 'Paraphymatoceros_hallii', 'Cicerbita_plumieri', 'Casuarina_equisetifolia', 'Epilobium_sp.', 'Nothofagus_obliqua', 'Inula_helenium', 'Wisteria_floribunda', 'Stachyurus_praecox', 'Polytrichum_commune', 'Euptelea_pleiosperma', 'Phaeomegaceros_coriaceus', 'Sphaerocarpos_texanus', 'Solanum_sisymbriifolium', 'Solanum_dulcamara', 'Platycodon_grandiflorus', 'Quercus_shumardii', 'Rosmarinus_officinalis', 'Megaceros_flagellaris', 'Nyssa_ogeche', 'Cunonia_capensis', 'Widdringtonia_cedarbergensis', 'Isoetes_tegetiformans', 'Persea_borbonia', 'Hakea_drupacea', 'Verbena_hastata', 'Agapanthus_africanus', 'Lathyrus_sativus', 'Lindera_benzoin', 'Coriaria_nepalensis', 'Viburnum_odoratissimum', 'Gompholobium_polymorphum', 'Lindsaea_microphylla', 'Brodiaea_sierrae', 'Impatiens_balsamifera', 'Elaeagnus_pungens', 'Hydrocotyle_umbellata', 'Asplenium_nidus', 'Juglans_nigra', 'Araucaria_rulei', 'Galax_urceolata', 'Urtica_dioica', 'Paraneurachne_muelleri', 'Limnanthes_douglasii', 'Osmunda_sp.', 'Sesuvium_portulacastrum', 'Oenothera_elata', 'Allium_sativum', 'Akebia_trifoliata', 'Frullania_sp.', 'Dacrydium_balansae', 'Xanthium_strumarium', 'Bazzania_trilobata', 'Astilbe_chinensis', 'Acer_negundo', 'Heracleum_lanatum', 'Teucrium_chamaedrys', 'Ardisia_humilis', 'Itea_virginica', 'Thujopsis_dolabrata', 'Colchicum_autumnale', 'Leiosporoceros_dussii', 'Dianthus_caryophyllus', 'Salix_fargesii', 'Philonotis_fontana', 'Phyllocladus_hypophyllus', 'Desmanthus_illinoensis', 'Hoheria_angustifolia', 'Cupressus_dupreziana', 'Aster_tataricus', 'Pereskia_aculeata', 'Peganum_harmala', 'Salix_eriocephala', 'Brocchinia_reducta', 'Linum_grandiflorum', 'Laurelia_sempervirens', 'Flaveria_kochiana', 'Peumus_boldus', 'Monotropa_uniflora', 'Magnolia_grandiflora', 'Deparia_lobato-crenata', 'Selaginella_apoda', 'Solidago_canadensis', 'Ipomoea_indica', 'Oenothera_serrulata', 'Phymatosorus_grossus', 'Griselinia_littoralis', 'Gleditsia_triacanthos', 'Amaranthus_retroflexus', 'Parahemionitis_cordata', 'Typha_latifolia', 'Drimys_winteri', 'Lycium_barbarum', 'Fagus_sylvatica', 'Tsuga_heterophylla', 'Sarcobatus_vermiculatus', 'Austrobaileya_scandens', 'Schiedea_membranacea', 'Ilex_vomitoria', 'Tapiscia_sinensis', 'Lycopodium_annotinum', 'Cuscuta_pentagona', 'Batis_maritima', 'Amaryllis_belladonna', 'Freycinetia_multiflora', 'Garcinia_oblongifolia', 'Scouleria_aquatica', 'Pinguicula_agnata', 'Xerophyta_villosa', 'Dombeya_burgessiae', 'Fouquieria_macdougalii', 'Aextoxicon_punctatum', 'Idiospermum_australiense', 'Ternstroemia_gymnanthera', 'Pogostemon_sp.', 'Radula_lindenbergiana', 'Avena_fatua', 'Ipomoea_purpurea', 'Buxus_sempervirens', 'Pityrogramma_trifoliata', 'Phlox_sp.', 'Selaginella_wallacei', 'Platanthera_clavellata', 'Chamaecyparis_lawsoniana', 'Houttuynia_cordata', 'Bougainvillea_spectabilis', 'Papuacedrus_papuana', 'Podocarpus_rubens', 'Saruma_henryi', 'Pseudotsuga_wilsoniana', 'Tragopogon_castellanus', 'Nageia_nagi', 'Oxera_pulchella', 'Cinnamomum_camphora', 'Gloriosa_superba', 'Polystichum_acrostichoides', 'Kochia_scoparia', 'Crassula_perforata', 'Stemona_tuberosa', 'Stereodon_subimponens', 'Stangeria_eriopus', 'Ailanthus_altissima', 'Daphniphyllum_macropodum', 'Amentotaxus_argotaenia', 'Sphagnum_palustre', 'Selaginella_cf._pallescens', 'Saxifraga_stolonifera', 'Panicum_miliaceum', 'Kirkia_wilmsii', 'Alangium_chinense', 'Prunus_prostrata', 'Racomitrium_varium', 'Ehretia_acuminata', 'Eriospermum_lancifolia', 'Aristolochia_elegans', 'Canna_sp.', 'Peliosanthes_minor', 'Litchi_chinensis', 'Myriopteris_rufa', 'Argyrochosma_nivea', 'Saponaria_officinalis', 'Tetrastigma_obtectum', 'Traubia_modesta', 'Draba_magellanica', 'Boykinia_jamesii', 'Brugmansia_sanguinea', 'Lennoa_madreporoides', 'Xeronema_callistemon', 'Neurachne_minor', 'Timmia_austriaca', 'Woodsia_scopulina', 'Simmondsia_chinensis', 'Cymbopogon_nardus', 'Ulmus_alata', 'Falcatifolium_taxoides', 'Linum_bienne', 'Michelia_maudiae', 'Gymnocladus_dioicus', 'Dioscorea_villosa', 'Oenothera_nana', 'Mapania_palustris', 'Nothoceros_aenigmaticus', 'Prumnopitys_andina', 'Parasitaxus_usta', 'Davallia_fejeensis', 'Tellima_breviflora', 'Glycyrrhiza_glabra', 'Grevillea_robusta', 'Staphylea_trifolia', 'Ficus_religiosa', 'Corokia_cotoneaster', 'Lonicera_japonica', 'Sarcandra_glabra', 'Phacelia_campanularia', 'Lycopersicon_cheesmanii', 'Dicranum_scoparium', 'Callitris_macleayana', 'Dipteris_conjugata', 'Onoclea_sensibilis', 'Asplenium_cf._x_lucrosum', 'Sciadopitys_verticillata', 'Kerria_japonica', 'Begonia_sp.', 'Ascarina_rubricaulis', 'Cystopteris_fragilis', 'Deschampsia_cespitosa', 'Huperzia_squarrosa', 'Lupinus_angustifolius', 'Takakia_lepidozioides', 'Climacium_dendroides', 'Ipomoea_lobata', 'Sinojackia_xylocarpa', 'Sequoia_sempervirens', 'Typha_angustifolia', 'Microcachrys_tetragona', 'Leonurus_japonicus', 'Exacum_affine', 'Gunnera_manicata', 'Krameria_lanceolata', 'Thymus_vulgaris', 'Atropa_belladonna', 'Equisetum_diffusum', 'Sceptridium_dissectum', 'Botrypus_virginianus', 'Metzgeria_crassipilis', 'Taxodium_distichum', 'Heliotropium_racemosum', 'Salix_sachalinensis', 'Ipomoea_nil', 'Heliotropium_greggii', 'Cladrastis_lutea', 'Apios_americana', 'Uniola_paniculata', 'Nymphaea_sp.', 'Lindsaea_linearis', 'Wollemia_nobilis', 'Ribes_aff._giraldii', 'Ginkgo_biloba', 'Castanea_pumila', 'Helonias_bullata', 'Symplocos_tinctoria', 'Brassica_nigra', 'Digitalis_purpurea', 'Boehmeria_nivea', 'Polygala_lutea', 'Amaranthus_cruentus', 'Nicotiana_sylvestris', 'Paeonia_lactiflora', 'Buxbaumia_aphylla', 'Calycanthus_floridus', 'Torreya_nucifera', 'Tragopogon_porrifolius', 'Malesherbia_fasciculata', 'Dipsacus_asper', 'Geum_quellyon', 'Selaginella_selaginoides', 'Sansevieria_trifasciata', 'Lagerstroemia_indica', 'Chrysobalanus_icaco', 'Leontopodium_alpinum', 'Leucobryum_albidum', 'Yucca_brevifolia', 'Callitris_gracilis', 'Oxalis_sp.', 'Diselma_archeri', 'Gymnocarpium_dryopteris', 'Thelypteris_acuminata', 'Tragopogon_dubius', 'Encephalartos_barteri', 'Halocarpus_bidwillii', 'Carthamus_lanatus', 'Yucca_filamentosa', 'Tetraphis_pellucida', 'Rehmannia_glutinosa', 'Ochna_mossambicensis', 'Linum_lewisii', 'Humulus_lupulus', 'Sassafras_albidum', 'Syzygium_paniculatum', 'Reseda_odorata', 'Hibiscus_cannabinus', 'Nandina_domestica', 'Dioon_edule', 'Neckera_douglasii', 'Cleome_viscosa', 'Flaveria_vaginata', 'Tetrastigma_voinierianum', 'Caiophora_chuquitensis', 'Eucommia_ulmoides', 'Keteleeria_evelyniana', 'Pinus_jeffreyi', 'Triglochin_maritima', 'Psilotum_nudum', 'Chelidonium_majus', 'Bolbitis_repanda', 'Claopodium_rostratum', 'Rosulabryum_cf._capillare', 'Marchantia_paleacea', 'Bixa_orellana', 'Salvadora_sp.', 'Tragopogon_pratensis', 'Terminalia_neotaliala', 'Ephedra_sinica', 'Datura_metel', 'Menyanthes_trifoliata', 'Croton_tiglium', 'Phoradendron_serotinum', 'Plantago_virginica', 'Oresitrophe_rupifraga', 'Delosperma_echinatum', 'Pilularia_globulifera', 'Sanguinaria_canadensis', 'Helwingia_japonica', 'Bituminaria_bituminosa', 'Manihot_grahamii', 'Allium_commutatum', 'Buddleja_lindleyana', 'Lycopodium_deuterodensum', 'Athyrium_filix-femina', 'Portulaca_suffruticosa', 'Strychnos_spinosa', 'Pleopeltis_polypodioides', 'Tetrazygia_bicolor', 'Manoao_colensoi', 'Azadirachta_indica', 'Capnoides_sempervirens', 'Haemaria_discolor', 'Cistus_inflatus', 'Matricaria_matricarioides', 'Souroubea_exauriculata', 'Hedwigia_ciliata', 'Koeberlinia_spinosa', 'Zephyranthes_treatiae', 'Calypogeia_fissa', 'Marchantia_emarginata', 'Aphanopetalum_resinosum', 'Cercocarpus_ledifolius', 'Heliotropium_tenuifolium', 'Ardisia_revoluta', 'Heliotropium_mendocinum', 'Oenothera_affinis', 'Cystopteris_utahensis', 'Borya_sphaerocephala', 'Azolla_cf._caroliniana', 'Gnetum_montanum', 'Mammea_americana', 'Syntrichia_princeps', 'Escallonia_sp._cv._Newport', 'Draba_hispida', 'Phycella_aff._cyrtanthoides', 'Polypodium_glycyrrhiza', 'Linum_hirsutum', 'Draba_ossetica', 'Nolina_bigelovii', 'Anthemis_tinctoria', 'Oenothera_berlandieri', 'Salix_viminalis', 'Jacquinia_sp.', 'Myodocarpus_sp.', 'Pholisma_arenarium', 'Astragalus_propinquus', 'Mertensia_paniculata', 'Maianthemum_canadense', 'Ziziphus_jujuba', 'Allamanda_cathartica', 'Thyridolepis_mitchelliana', 'Berberidopsis_beckleri', 'Rhododendron_groenlandicum', 'Cassytha_filiformis', 'Byblis_gigantea', 'Fokienia_hodginsii', 'Nypa_fruticans', 'Asclepias_syriaca', 'Sorbus_koehneana', 'Pilgerodendron_uviferum', 'Ochna_serrulata', 'Rauvolfia_tetraphylla', 'Schlegelia_violacea', 'Scutellaria_montana', 'Pteris_ensiformis', 'Sinningia_tuberosa', 'Saxegothaea_conspicua', 'Corydalis_linstowiana', 'Dryas_octopetala', 'Angiopteris_evecta', 'Solanum_ptychanthum', 'Edgeworthia_papyrifera', 'Poliomintha_bustamanta', 'Conopholis_americana', 'Lygodium_japonicum', 'Malus_baccata', 'Microstrobos_fitzgeraldii', 'Chionanthus_retusus', 'Rosa_palustris', 'Sundacarpus_amarus', 'Tmesipteris_parva', 'Athrotaxis_cupressoides', 'Lavandula_angustifolia', 'Hydrastis_canadensis', 'Lunularia_cruciata', 'Myristica_fragrans', 'Thladiantha_villosula', 'Sagittaria_latifolia', 'Codariocalyx_motorius', 'Drakaea_elastica', 'Gomortega_keule', 'Selaginella_moellendorffii', 'Passiflora_edulis', 'Akania_lucens', 'Limonium_spectabile', 'Diphasiastrum_digitatum', 'Heliotropium_convolvulaceum', 'Bischofia_javanica', 'Symphoricarpos_sp.', 'Amelanchier_canadensis', 'Hemerocallis_sp.', 'Mollugo_cerviana', 'Neurachne_munroi', 'Neurachne_tenuifolia', 'Podophyllum_peltatum', 'Crossopetalum_rhacoma', 'Phyllanthus_sp.', 'Strobilanthes_dyeriana', 'Anisacanthus_quadrifidus', 'Typhonium_blumei', 'Rhododendron_scopulorum', 'Utricularia_sp.', 'Hesperaloe_parviflora', 'Adiantum_raddianum', 'Portulaca_molokiniensis', 'Castanea_crenata', 'Silene_latifolia', 'Phylloglossum_drummondii', 'Cercidiphyllum_japonicum', 'Phlebodium_pseudoaureum', 'Agastache_rugosa', 'Rhynchostegium_serrulatum', 'Zaleya_pentandra', 'Microbiota_decussata', 'Gyrostemon_ramulosus', 'Linum_strictum', 'Ilex_paraguariensis', 'Athyrium_sp.', 'Lomandra_longifolia', 'Cephalotus_follicularis', 'Orthotrichum_lyellii', 'Petiveria_alliacea', 'Glyptostrobus_pensilis', 'Leucodon_julaceus', 'Cedrus_libani', 'Vanilla_planifolia', 'Lupinus_polyphyllus', 'Larix_speciosa', 'Maranta_leuconeura', 'Oenothera_rhombipetala', 'Drimia_altissima', 'Euphorbia_pekinensis', 'Syzygium_micranthum', 'Sphagnum_lescurii', 'Viola_canadensis', 'Allionia_incarnata', 'Cycas_micholitzii', 'Sanguisorba_minor', 'Ricciocarpos_natans', 'Vitex_agnus-castus', 'Sanchezia_sp.', 'Maianthemum_sp.', 'Diphyscium_foliosum', 'Escallonia_rubra', 'Talinum_sp.', 'Nelumbo_sp.', 'Picea_engelmannii', 'Piper_auritum', 'Juniperus_scopulorum', 'Phytolacca_bogotensis', 'Sisyrinchium_angustifolium', 'Anomodon_attenuatus', 'Annona_muricata', 'Pseudotaxus_chienii', 'Betula_pendula', 'Citrus_x_paradisi', 'Pinus_radiata', 'Taxus_cuspidata', 'Porella_pinnata', 'Erythroxylum_coca', 'Selaginella_willdenowii', 'Diospyros_malabarica', 'Quassia_amara', 'Linum_tenuifolium', 'Bauhinia_tomentosa', 'Drypetes_deplanchei', 'Nuphar_advena', 'Bursera_simaruba', 'Goodyera_pubescens', 'Valeriana_officinalis', 'Odontoschisma_prostratum', 'Pittosporum_resiniferum', 'Prunella_vulgaris', 'Nepenthes_alata', 'Ceratopteris_thalictroides', 'Scapania_nemorosa', 'Heliotropium_tenellum', 'Bryum_argenteum', 'Lonchitis_hirsuta', 'Meliosma_cuneifolia', 'Tanacetum_parthenium', 'Solanum_lasiophyllum', 'Pyrenacantha_malvifolia', 'Stackhousia_spathulata', 'Medinilla_magnifica', 'Ximenia_americana', 'Ceratocapnos_vesicaria', 'Selaginella_acanthonota', 'Phytolacca_americana', 'Gyrocarpus_americanus', 'Xanthocercis_zambesiaca', 'Aruncus_dioicus', 'Fontinalis_antipyretica', 'Daphne_giraldii', 'Johnsonia_pubescens', 'Orchidantha_maxillarioides', 'Lepidosperma_gibsonii', 'Antirrhinum_braun-blanquetii', 'Leucostegia_immersa', 'Saururus_cernuus', 'Podocarpus_coriaceus', 'Flaveria_sonorensis', 'Cystopteris_protrusa', 'Elaeocarpus_sylvestris', 'Lophophora_williamsii', 'Ligustrum_sinense', 'Astragalus_membranaceus', 'Aulacomnium_heterostichum', 'Hypecoum_procumbens', 'Metasequoia_glyptostroboides', 'Linum_flavum', 'Hemerocallis_spp.', 'Strelitzia_reginae', 'Taxus_baccata', 'Eupomatia_bennettii', 'Posidonia_australis', 'Garcinia_livingstonei', 'Daenikera_sp.', 'Polypodium_amorphum', 'Pellia_neesiana', 'Arabis_alpina', 'Danaea_nodosa', 'Pallavicinia_lyellii', 'Flaveria_palmeri', 'Dendropemon_caribaeus', 'Sarcodes_sanguinea', 'Microtea_debilis', 'Draba_oligosperma', 'Phormium_tenax', 'Morus_nigra', 'Muntingia_calabura', 'Chondropetalum_tectorum', 'Taiwania_cryptomerioides', 'Lilium_sargentiae', 'Plagiogyria_japonica', 'Gentiana_acaulis', 'Lagarostrobos_franklinii', 'Lycopodiella_appressa', 'Selaginella_kraussiana', 'Salvia_spp.', 'Polypodium_hesperium', 'Platanus_occidentalis', 'Equisetum_hyemale', 'Pellia_cf._epiphylla', 'Ipomoea_pubescens', 'Dillenia_indica', 'Leucodon_brachypus', 'Platyspermation_crassifolium', 'Uncarina_grandidieri', 'Verbascum_sp.', 'Masdevallia_yuangensis', 'Pseudolycopodiella_caroliniana', 'Microstegium_vimineum', 'Copaifera_officinalis', 'Solanum_xanthocarpum', 'Physcomitrium_sp.', 'Polyscias_fruticosa', 'Micromeria_fruticosa', 'Rhodiola_rosea', 'Encalypta_streptocarpa', 'Hypericum_perforatum', 'Nepeta_cataria', 'Marrubium_vulgare', 'Schistochila_sp.', 'Didymochlaena_truncatula', 'Hilleria_latifolia', 'Conocephalum_conicum', 'Dennstaedtia_davallioides', 'Aesculus_pavia', 'Cathaya_argyrophylla', 'Anthoceros_agrestis', 'Ruscus_sp.', 'Nothoceros_vincentianus', 'Calceolaria_pinifolia', 'Wrightia_natalensis', 'Phelline_lucida', 'Osmundastrum_cinnamomeum', 'Dacrycarpus_compactus', 'Salix_acutifolia', 'Hymenophyllum_bivalve', 'Culcita_macrocarpa', 'Pennantia_corymbosa', 'Asclepias_curassavica', 'Linum_leonii', 'Huperzia_myrsinites', 'Cotoneaster_transcaucasicus', 'Tetraclinis_sp.', 'Thyrsopteris_elegans', 'Calocedrus_decurrens', 'Erigeron_canadensis', 'Angelica_archangelica', 'Physena_madagascariensis', 'Silybum_marianum', 'Sphagnum_recurvum', 'Cypselea_humifusa', 'Neurachne_annularis', 'Pteris_vittata', 'Araucaria_sp.', 'Synsepalum_dulcificum', 'Acmopyle_pancheri', 'Adiantum_aleuticum', 'Cavendishia_cuatrecasasii', 'Austrotaxus_spicata', 'Mansoa_alliacea', 'Gaga_arizonica', 'Pinus_parviflora', 'Curculigo_sp.', 'Senecio_rowleyanus', 'Solenostemon_scutellarioides', 'Loeskeobryum_brevirostre', 'Polycarpaea_repens', 'Ptilidium_pulcherrimum', 'Helenium_autumnale', 'Welwitschia_mirabilis', 'Kalanchoe_crenato-diagremontiana', 'Linum_macraei', 'Tiarella_polyphylla', 'Agathis_robusta', '_unknown', 'Anemone_hupehensis', 'Geranium_maculatum', 'Heuchera_sanguinea', 'Eucalyptus_leucoxylon', 'Disporopsis_pernyi', 'Thuidium_delicatulum', 'Neurachne_lanigera', 'Atrichum_angustatum', 'Oenothera_suffulta_suffulta', 'Tabebuia_umbellata', 'Roridula_gorgonias', 'Andreaea_rupestris', 'Actinidia_chinensis', 'Alnus_serrulata', 'Anemone_pulsatilla', 'Draba_sachalinensis', 'Spergularia_media', 'Calliergon_cordifolium', 'Boswellia_sacra', 'Rhizophora_mangle', 'Ipomoea_hederacea', 'Viola_tricolor', 'Gelsemium_sempervirens', 'Polygonum_convolvulus', 'Abies_lasiocarpa', 'Woodsia_ilvensis', 'Phlox_drummondii', 'Cyanella_orchidiformis', 'Portulaca_pilosa', 'Cornus_florida', 'Melissa_officinalis', 'Galphimia_gracilis', 'Rhus_radicans', 'Diplazium_wichurae', 'Vittaria_appalachiana', 'Triodia_aff._bynoei', 'Phaeoceros_carolinianus', 'Urginea_maritima', 'Osmunda_javanica', 'Dendrolycopodium_obscurum', 'Oenothera_villaricae', 'Beta_maritima', 'Pseudotaxiphyllum_elegans', 'Centella_asiatica', 'Plagiomnium_insigne', 'Sideroxylon_reclinatum', 'Lobelia_siphilitica', 'Draba_aizoides', 'Thyridolepis_multiculmis', 'Passiflora_caerulea', 'Platycladus_orientalis', 'Celtis_occidentalis', 'Cystopteris_reevesiana', 'Licania_michauxii', 'Homalosorus_pycnocarpos', 'Athyrium_spicant', 'Pittosporum_sahnianum', 'Tribulus_eichlerianus', 'Oxera_neriifolia', 'Chlorogalum_pomeridianum', 'Sequoiadendron_giganteum', 'Manilkara_zapota', 'Neocallitropsis_pancheri', 'Saintpaulia_ionantha', 'Oenothera_picensis', 'Huperzia_lucidula', 'Loropetalum_chinense', 'Retrophyllum_minus', 'Myriophyllum_aquaticum', 'Leucobryum_glaucum', 'Agave_tequilana', 'Trochodendron_aralioides', 'Blutaparon_vermiculare'}\n",
      "\n",
      "Species unique to phyto dataset:\n",
      "{'Eutrema_salsugineum', 'Sphagnum magellanicum', 'Nymphaea_colorata', 'Arabidopsis_halleri', 'Arabidopsis_thaliana', 'Micromonas_pusilla', 'Physcomitrella_patens', 'Anacardium_occidentale', 'Kalanchoe_laxiflora', 'Phaseolus_acutifolius', 'Descurainia_sophioides', 'Populus_trichocarpa', 'Musa_acuminata', 'Vitis_vinifera', 'Zostera_marina', 'Arachis_hypogaea', 'Carya_illinoinensis', 'Chromochloris_zofingiensis', 'Linum_usitatissimum', 'Asparagus_officinalis', 'Dunaliella_salina ', 'Corymbia_citriodora', 'Stanleya_pinnata', 'Capsella_rubella', 'Setaria_viridis', 'Poncirus_trifoliata', 'Brachypodium_distachyon', 'Prunus_persica', 'Glycine_max', 'Malus_domestica', 'Capsella_grandiflora', 'Theobroma_cacao', 'Solanum_tuberosum', 'Cakile_maritima', 'Sphagnum_fallax', 'Oryza_sativa', 'Mimulus_guttatus', 'Eruca_vesicaria', 'Ostreococcus_lucimarinus', 'Ananas_comosus', 'Eleusine_coracana', 'Brachypodium_stacei', 'Aquilegia_coerulea', 'Carica_papaya', 'Myagrum_perfoliatum', 'Dioscorea_alata', 'Amborella_trichopoda', 'Daucus_carota', 'Brachypodium_hybridum', 'Crambe_hispanica', 'Coccomyxa_subellipsoidea', 'Coffea_arabica', 'Glycine_soja', 'Gossypium_mustelinum', 'Fragaria_vesca', 'Helianthus_annuus', 'Cinnamomum_kanehirae', 'Thinopyrum_intermedium', 'Gossypium_barbadense', 'Lunaria_annua', 'Lactuca_sativa', 'Thlaspi_arvense', 'Porphyra_umbilicalis', 'Spinacia_oleracea', 'Chlamydomonas_reinhardtii', 'Triticum_aestivum', 'Miscanthus_sinensis', 'Panicum_virgatum', 'Trifolium_pratense', 'Volvox_carteri', 'Cucumis_sativus', 'Paspalum_vaginatum', 'Brachypodium_mexicanum', 'Brachypodium_sylvaticum', 'Cleome_violacea', 'Hordeum_vulgare', 'Brassica_oleracea', 'Malcolmia_maritima', 'Phaseolus_lunatus', 'Zea_mays', 'Setaria_italica', 'Medicago_truncatula', 'Gossypium_raimondii', 'Vigna_unguiculata', 'Cicer_arietinum', 'Gossypium_hirsutum', 'Citrus_clementina', 'Beta_vulgaris', 'Caulanthus_amplexicaulis', 'Lepidium_sativum', 'Urochloa_fusca', 'Quercus_rubra', 'Eucalyptus_grandis', 'Gossypium_darwinii', 'Gossypium_tomentosum', 'Fragaria.x_ananassa', 'Manihot_esculenta', 'Iberis_amara', 'Euclidium_syriacum', 'Phaseolus_vulgaris', 'Amaranthus_hypochondriacus', 'Diptychocarpus_strictus', 'Botryococcus_braunii', 'Oropetium_thomaeum', 'Lotus_japonicus', 'Populus_deltoides', 'Solanum_lycopersicum', 'Schrenkiella_parvula', 'Brassica_rapa', 'Lupinus_albus', 'Alyssum_linifolium', 'Isatis_tinctoria', 'Rorippa_islandica', 'Kalanchoe_fedtschenkoi', 'Citrus_sinensis', 'Sorghum_bicolor', 'Castanea_dentata', 'Spirodela_polyrhiza', 'Panicum_hallii', 'Arabidopsis_lyrata', 'Ceratopteris_richardii'}\n",
      "\n",
      "\n",
      "\n",
      "Classificaitons unique to 1kp dataset:\n",
      "{'Lycophytes', 'Ferns', 'Hornworts', 'Marattiales', 'Horsetails'}\n",
      "\n",
      "Classificaitons unique to phyto dataset:\n",
      "{'Chlorophyta_algae', 'Red_algae'}\n",
      "\n"
     ]
    }
   ],
   "source": [
    "# Print the lists of unique species and classifications in each of onekp and phyto datasets\n",
    "\n",
    "onekp = onekp.loc[onekp[\"Description\"] != \"Outgroup\"]\n",
    "\n",
    "onekp_species = onekp['Species'].unique()\n",
    "phyto_species = phyto['Species'].unique()\n",
    "\n",
    "onekp_species = set(onekp_species)\n",
    "phyto_species = set(phyto_species)\n",
    "\n",
    "unique_sp_onekp = onekp_species - phyto_species\n",
    "unique_sp_phyto = phyto_species - onekp_species\n",
    "\n",
    "print(f\"Species unique to 1kp dataset:\\n{unique_sp_onekp}\\n\")\n",
    "print(f\"Species unique to phyto dataset:\\n{unique_sp_phyto}\\n\")\n",
    "\n",
    "onekp_tax = onekp['Description'].unique()\n",
    "phyto_tax = phyto['Description'].unique()\n",
    "\n",
    "onekp_tax = set(onekp_tax)\n",
    "phyto_tax = set(phyto_tax)\n",
    "\n",
    "unique_cl_onekp = onekp_tax - phyto_tax\n",
    "unique_cl_phyto = phyto_tax - onekp_tax\n",
    "\n",
    "print(\"\\n\")\n",
    "print(f\"Classificaitons unique to 1kp dataset:\\n{unique_cl_onekp}\\n\")\n",
    "print(f\"Classificaitons unique to phyto dataset:\\n{unique_cl_phyto}\\n\")\n"
   ]
  },
  {
   "cell_type": "code",
   "execution_count": 8,
   "metadata": {},
   "outputs": [],
   "source": [
    "joint = onekp.merge(phyto, on=['Species', 'Order', 'Description', 'Sequence', 'Scaffold_id', 'Data_source'], how='outer')"
   ]
  },
  {
   "cell_type": "code",
   "execution_count": 9,
   "metadata": {},
   "outputs": [],
   "source": [
    "joint.to_csv(f\"output/{DATE}_master_index.csv\", index = False)"
   ]
  },
  {
   "cell_type": "code",
   "execution_count": 11,
   "metadata": {},
   "outputs": [],
   "source": [
    "# Create a fasta file from the master_index.csv\n",
    "\n",
    "master_df = pd.read_csv(f'output/220712_master_index.csv')\n",
    "\n",
    "temp_df = master_df\n",
    "\n",
    "temp_df['Header'] = master_df['Scaffold_id'] + '|' + master_df['Species'] + '|' + master_df['Description'] + '|' + master_df['Order']+ '|' + master_df['Data_source'] \n",
    "\n",
    "master_dict = dict(zip(temp_df['Header'], temp_df['Sequence']))\n",
    "\n",
    "with open(f'output/{DATE}_phyto_1kp_master.fasta', 'w') as form: # Creates a fasta file with informative header\n",
    "                                                                # for use going forward\n",
    "    for k,v in master_dict.items(): \n",
    "        form.write('>' + k + '\\n' + v +'\\n')"
   ]
  },
  {
   "cell_type": "code",
   "execution_count": 12,
   "metadata": {},
   "outputs": [
    {
     "data": {
      "text/html": [
       "<div>\n",
       "<style scoped>\n",
       "    .dataframe tbody tr th:only-of-type {\n",
       "        vertical-align: middle;\n",
       "    }\n",
       "\n",
       "    .dataframe tbody tr th {\n",
       "        vertical-align: top;\n",
       "    }\n",
       "\n",
       "    .dataframe thead th {\n",
       "        text-align: right;\n",
       "    }\n",
       "</style>\n",
       "<table border=\"1\" class=\"dataframe\">\n",
       "  <thead>\n",
       "    <tr style=\"text-align: right;\">\n",
       "      <th></th>\n",
       "      <th>Onekp_index_id</th>\n",
       "      <th>Seq_id</th>\n",
       "      <th>Subject Scientific Name</th>\n",
       "      <th>Subject Taxonomy ID</th>\n",
       "      <th>Percentage of identical matches</th>\n",
       "      <th>Alignment length</th>\n",
       "      <th>Number of mismatches</th>\n",
       "      <th>Number of gap openings</th>\n",
       "      <th>Start of alignment in query</th>\n",
       "      <th>End of alignment in query</th>\n",
       "      <th>...</th>\n",
       "      <th>Species</th>\n",
       "      <th>Description</th>\n",
       "      <th>Order</th>\n",
       "      <th>Scaffold_id</th>\n",
       "      <th>Sequence</th>\n",
       "      <th>Data_source</th>\n",
       "      <th>Protein</th>\n",
       "      <th>Short_species</th>\n",
       "      <th>Phyto_species_y</th>\n",
       "      <th>Header</th>\n",
       "    </tr>\n",
       "  </thead>\n",
       "  <tbody>\n",
       "    <tr>\n",
       "      <th>0</th>\n",
       "      <td>DLJZ</td>\n",
       "      <td>2059039.0</td>\n",
       "      <td>Solanum ptychanthum</td>\n",
       "      <td>45838.0</td>\n",
       "      <td>97.149</td>\n",
       "      <td>912.0</td>\n",
       "      <td>25.0</td>\n",
       "      <td>1.0</td>\n",
       "      <td>1.0</td>\n",
       "      <td>911.0</td>\n",
       "      <td>...</td>\n",
       "      <td>Solanum_ptychanthum</td>\n",
       "      <td>Core_eudicots/Asterids</td>\n",
       "      <td>Solanales</td>\n",
       "      <td>DLJZ_2059039</td>\n",
       "      <td>MAASVENRQFSHLEPGLSGVGRTFKPRSDSPVRGCNFPPSSKHELP...</td>\n",
       "      <td>1kp</td>\n",
       "      <td>NaN</td>\n",
       "      <td>NaN</td>\n",
       "      <td>NaN</td>\n",
       "      <td>DLJZ_2059039|Solanum_ptychanthum|Core_eudicots...</td>\n",
       "    </tr>\n",
       "    <tr>\n",
       "      <th>1</th>\n",
       "      <td>DLJZ</td>\n",
       "      <td>2057353.0</td>\n",
       "      <td>Solanum ptychanthum</td>\n",
       "      <td>45838.0</td>\n",
       "      <td>31.552</td>\n",
       "      <td>393.0</td>\n",
       "      <td>225.0</td>\n",
       "      <td>12.0</td>\n",
       "      <td>109.0</td>\n",
       "      <td>481.0</td>\n",
       "      <td>...</td>\n",
       "      <td>Solanum_ptychanthum</td>\n",
       "      <td>Core_eudicots/Asterids</td>\n",
       "      <td>Solanales</td>\n",
       "      <td>DLJZ_2057353</td>\n",
       "      <td>MPGIKGPSDYSREPPRHPCLKINSKEPFNAEPTRSALISSYVTPVD...</td>\n",
       "      <td>1kp</td>\n",
       "      <td>NaN</td>\n",
       "      <td>NaN</td>\n",
       "      <td>NaN</td>\n",
       "      <td>DLJZ_2057353|Solanum_ptychanthum|Core_eudicots...</td>\n",
       "    </tr>\n",
       "    <tr>\n",
       "      <th>2</th>\n",
       "      <td>DLJZ</td>\n",
       "      <td>2054501.0</td>\n",
       "      <td>Solanum ptychanthum</td>\n",
       "      <td>45838.0</td>\n",
       "      <td>40.467</td>\n",
       "      <td>257.0</td>\n",
       "      <td>127.0</td>\n",
       "      <td>8.0</td>\n",
       "      <td>649.0</td>\n",
       "      <td>902.0</td>\n",
       "      <td>...</td>\n",
       "      <td>Solanum_ptychanthum</td>\n",
       "      <td>Core_eudicots/Asterids</td>\n",
       "      <td>Solanales</td>\n",
       "      <td>DLJZ_2054501</td>\n",
       "      <td>MEFLERPDAQLIIGVAVAAVAVGATAYFYFSSKKSKVCLNPEEFRA...</td>\n",
       "      <td>1kp</td>\n",
       "      <td>NaN</td>\n",
       "      <td>NaN</td>\n",
       "      <td>NaN</td>\n",
       "      <td>DLJZ_2054501|Solanum_ptychanthum|Core_eudicots...</td>\n",
       "    </tr>\n",
       "    <tr>\n",
       "      <th>3</th>\n",
       "      <td>DLJZ</td>\n",
       "      <td>2002023.0</td>\n",
       "      <td>Solanum ptychanthum</td>\n",
       "      <td>45838.0</td>\n",
       "      <td>34.752</td>\n",
       "      <td>282.0</td>\n",
       "      <td>144.0</td>\n",
       "      <td>7.0</td>\n",
       "      <td>615.0</td>\n",
       "      <td>890.0</td>\n",
       "      <td>...</td>\n",
       "      <td>Solanum_ptychanthum</td>\n",
       "      <td>Core_eudicots/Asterids</td>\n",
       "      <td>Solanales</td>\n",
       "      <td>DLJZ_2002023</td>\n",
       "      <td>MAAFLRKLAKAAPVAFSEAFRGDSKSNFADPRFPFGAIAAVAGCVS...</td>\n",
       "      <td>1kp</td>\n",
       "      <td>NaN</td>\n",
       "      <td>NaN</td>\n",
       "      <td>NaN</td>\n",
       "      <td>DLJZ_2002023|Solanum_ptychanthum|Core_eudicots...</td>\n",
       "    </tr>\n",
       "    <tr>\n",
       "      <th>4</th>\n",
       "      <td>DLJZ</td>\n",
       "      <td>2050677.0</td>\n",
       "      <td>Solanum ptychanthum</td>\n",
       "      <td>45838.0</td>\n",
       "      <td>46.250</td>\n",
       "      <td>80.0</td>\n",
       "      <td>42.0</td>\n",
       "      <td>1.0</td>\n",
       "      <td>532.0</td>\n",
       "      <td>610.0</td>\n",
       "      <td>...</td>\n",
       "      <td>Solanum_ptychanthum</td>\n",
       "      <td>Core_eudicots/Asterids</td>\n",
       "      <td>Solanales</td>\n",
       "      <td>DLJZ_2050677</td>\n",
       "      <td>MPTLTKLFTMEEAAQHNTKDDCWVVIDGKVYDVSSYLDEHPGGDDV...</td>\n",
       "      <td>1kp</td>\n",
       "      <td>NaN</td>\n",
       "      <td>NaN</td>\n",
       "      <td>NaN</td>\n",
       "      <td>DLJZ_2050677|Solanum_ptychanthum|Core_eudicots...</td>\n",
       "    </tr>\n",
       "    <tr>\n",
       "      <th>...</th>\n",
       "      <td>...</td>\n",
       "      <td>...</td>\n",
       "      <td>...</td>\n",
       "      <td>...</td>\n",
       "      <td>...</td>\n",
       "      <td>...</td>\n",
       "      <td>...</td>\n",
       "      <td>...</td>\n",
       "      <td>...</td>\n",
       "      <td>...</td>\n",
       "      <td>...</td>\n",
       "      <td>...</td>\n",
       "      <td>...</td>\n",
       "      <td>...</td>\n",
       "      <td>...</td>\n",
       "      <td>...</td>\n",
       "      <td>...</td>\n",
       "      <td>...</td>\n",
       "      <td>...</td>\n",
       "      <td>...</td>\n",
       "      <td>...</td>\n",
       "    </tr>\n",
       "    <tr>\n",
       "      <th>7037</th>\n",
       "      <td>NaN</td>\n",
       "      <td>NaN</td>\n",
       "      <td>NaN</td>\n",
       "      <td>NaN</td>\n",
       "      <td>NaN</td>\n",
       "      <td>NaN</td>\n",
       "      <td>NaN</td>\n",
       "      <td>NaN</td>\n",
       "      <td>NaN</td>\n",
       "      <td>NaN</td>\n",
       "      <td>...</td>\n",
       "      <td>Zea_mays</td>\n",
       "      <td>Monocots/Commelinids</td>\n",
       "      <td>Poales</td>\n",
       "      <td>PHYT_2731697</td>\n",
       "      <td>MAAVEPRQFGRLEPARVGAYPPPPSHIPRRADSPARGCGFPPLVSP...</td>\n",
       "      <td>phyto</td>\n",
       "      <td>Zm00001d031769</td>\n",
       "      <td>Z_mays</td>\n",
       "      <td>Zmays_RefGen_V4</td>\n",
       "      <td>PHYT_2731697|Zea_mays|Monocots/Commelinids|Poa...</td>\n",
       "    </tr>\n",
       "    <tr>\n",
       "      <th>7038</th>\n",
       "      <td>NaN</td>\n",
       "      <td>NaN</td>\n",
       "      <td>NaN</td>\n",
       "      <td>NaN</td>\n",
       "      <td>NaN</td>\n",
       "      <td>NaN</td>\n",
       "      <td>NaN</td>\n",
       "      <td>NaN</td>\n",
       "      <td>NaN</td>\n",
       "      <td>NaN</td>\n",
       "      <td>...</td>\n",
       "      <td>Zea_mays</td>\n",
       "      <td>Monocots/Commelinids</td>\n",
       "      <td>Poales</td>\n",
       "      <td>PHYT_6862052</td>\n",
       "      <td>MAASVERHLAPHPWPANAPPKSFDMFRTGSDSDSEDEDSIPAVDWR...</td>\n",
       "      <td>phyto</td>\n",
       "      <td>Zm00001d052139</td>\n",
       "      <td>Z_mays</td>\n",
       "      <td>Zmays_RefGen_V4</td>\n",
       "      <td>PHYT_6862052|Zea_mays|Monocots/Commelinids|Poa...</td>\n",
       "    </tr>\n",
       "    <tr>\n",
       "      <th>7039</th>\n",
       "      <td>NaN</td>\n",
       "      <td>NaN</td>\n",
       "      <td>NaN</td>\n",
       "      <td>NaN</td>\n",
       "      <td>NaN</td>\n",
       "      <td>NaN</td>\n",
       "      <td>NaN</td>\n",
       "      <td>NaN</td>\n",
       "      <td>NaN</td>\n",
       "      <td>NaN</td>\n",
       "      <td>...</td>\n",
       "      <td>Zea_mays</td>\n",
       "      <td>Monocots/Commelinids</td>\n",
       "      <td>Poales</td>\n",
       "      <td>PHYT_2065661</td>\n",
       "      <td>MAAVEPRQFGRLEPGSSPVRVATNGAKAYPPPASHLPRRADSPVRG...</td>\n",
       "      <td>phyto</td>\n",
       "      <td>Zm00001d049995</td>\n",
       "      <td>Z_mays</td>\n",
       "      <td>Zmays_RefGen_V4</td>\n",
       "      <td>PHYT_2065661|Zea_mays|Monocots/Commelinids|Poa...</td>\n",
       "    </tr>\n",
       "    <tr>\n",
       "      <th>7040</th>\n",
       "      <td>NaN</td>\n",
       "      <td>NaN</td>\n",
       "      <td>NaN</td>\n",
       "      <td>NaN</td>\n",
       "      <td>NaN</td>\n",
       "      <td>NaN</td>\n",
       "      <td>NaN</td>\n",
       "      <td>NaN</td>\n",
       "      <td>NaN</td>\n",
       "      <td>NaN</td>\n",
       "      <td>...</td>\n",
       "      <td>Zea_mays</td>\n",
       "      <td>Monocots/Commelinids</td>\n",
       "      <td>Poales</td>\n",
       "      <td>PHYT_7245880</td>\n",
       "      <td>MAASVERHLAPHPWPANAPPKSFDMFRSGGPGGKRRTGPDSDSEDE...</td>\n",
       "      <td>phyto</td>\n",
       "      <td>Zm00001d018206</td>\n",
       "      <td>Z_mays</td>\n",
       "      <td>Zmays_RefGen_V4</td>\n",
       "      <td>PHYT_7245880|Zea_mays|Monocots/Commelinids|Poa...</td>\n",
       "    </tr>\n",
       "    <tr>\n",
       "      <th>7041</th>\n",
       "      <td>NaN</td>\n",
       "      <td>NaN</td>\n",
       "      <td>NaN</td>\n",
       "      <td>NaN</td>\n",
       "      <td>NaN</td>\n",
       "      <td>NaN</td>\n",
       "      <td>NaN</td>\n",
       "      <td>NaN</td>\n",
       "      <td>NaN</td>\n",
       "      <td>NaN</td>\n",
       "      <td>...</td>\n",
       "      <td>Zea_mays</td>\n",
       "      <td>Monocots/Commelinids</td>\n",
       "      <td>Poales</td>\n",
       "      <td>PHYT_8121073</td>\n",
       "      <td>MSTCVEQPTHSASLDPTAAQRLPYPDLPVDILRRSSVRGSGFVAAA...</td>\n",
       "      <td>phyto</td>\n",
       "      <td>Zm00001d017025</td>\n",
       "      <td>Z_mays</td>\n",
       "      <td>Zmays_RefGen_V4</td>\n",
       "      <td>PHYT_8121073|Zea_mays|Monocots/Commelinids|Poa...</td>\n",
       "    </tr>\n",
       "  </tbody>\n",
       "</table>\n",
       "<p>7042 rows × 26 columns</p>\n",
       "</div>"
      ],
      "text/plain": [
       "     Onekp_index_id     Seq_id Subject Scientific Name  Subject Taxonomy ID  \\\n",
       "0              DLJZ  2059039.0     Solanum ptychanthum              45838.0   \n",
       "1              DLJZ  2057353.0     Solanum ptychanthum              45838.0   \n",
       "2              DLJZ  2054501.0     Solanum ptychanthum              45838.0   \n",
       "3              DLJZ  2002023.0     Solanum ptychanthum              45838.0   \n",
       "4              DLJZ  2050677.0     Solanum ptychanthum              45838.0   \n",
       "...             ...        ...                     ...                  ...   \n",
       "7037            NaN        NaN                     NaN                  NaN   \n",
       "7038            NaN        NaN                     NaN                  NaN   \n",
       "7039            NaN        NaN                     NaN                  NaN   \n",
       "7040            NaN        NaN                     NaN                  NaN   \n",
       "7041            NaN        NaN                     NaN                  NaN   \n",
       "\n",
       "      Percentage of identical matches  Alignment length  Number of mismatches  \\\n",
       "0                              97.149             912.0                  25.0   \n",
       "1                              31.552             393.0                 225.0   \n",
       "2                              40.467             257.0                 127.0   \n",
       "3                              34.752             282.0                 144.0   \n",
       "4                              46.250              80.0                  42.0   \n",
       "...                               ...               ...                   ...   \n",
       "7037                              NaN               NaN                   NaN   \n",
       "7038                              NaN               NaN                   NaN   \n",
       "7039                              NaN               NaN                   NaN   \n",
       "7040                              NaN               NaN                   NaN   \n",
       "7041                              NaN               NaN                   NaN   \n",
       "\n",
       "      Number of gap openings  Start of alignment in query  \\\n",
       "0                        1.0                          1.0   \n",
       "1                       12.0                        109.0   \n",
       "2                        8.0                        649.0   \n",
       "3                        7.0                        615.0   \n",
       "4                        1.0                        532.0   \n",
       "...                      ...                          ...   \n",
       "7037                     NaN                          NaN   \n",
       "7038                     NaN                          NaN   \n",
       "7039                     NaN                          NaN   \n",
       "7040                     NaN                          NaN   \n",
       "7041                     NaN                          NaN   \n",
       "\n",
       "      End of alignment in query  ...              Species  \\\n",
       "0                         911.0  ...  Solanum_ptychanthum   \n",
       "1                         481.0  ...  Solanum_ptychanthum   \n",
       "2                         902.0  ...  Solanum_ptychanthum   \n",
       "3                         890.0  ...  Solanum_ptychanthum   \n",
       "4                         610.0  ...  Solanum_ptychanthum   \n",
       "...                         ...  ...                  ...   \n",
       "7037                        NaN  ...             Zea_mays   \n",
       "7038                        NaN  ...             Zea_mays   \n",
       "7039                        NaN  ...             Zea_mays   \n",
       "7040                        NaN  ...             Zea_mays   \n",
       "7041                        NaN  ...             Zea_mays   \n",
       "\n",
       "                 Description      Order   Scaffold_id  \\\n",
       "0     Core_eudicots/Asterids  Solanales  DLJZ_2059039   \n",
       "1     Core_eudicots/Asterids  Solanales  DLJZ_2057353   \n",
       "2     Core_eudicots/Asterids  Solanales  DLJZ_2054501   \n",
       "3     Core_eudicots/Asterids  Solanales  DLJZ_2002023   \n",
       "4     Core_eudicots/Asterids  Solanales  DLJZ_2050677   \n",
       "...                      ...        ...           ...   \n",
       "7037    Monocots/Commelinids     Poales  PHYT_2731697   \n",
       "7038    Monocots/Commelinids     Poales  PHYT_6862052   \n",
       "7039    Monocots/Commelinids     Poales  PHYT_2065661   \n",
       "7040    Monocots/Commelinids     Poales  PHYT_7245880   \n",
       "7041    Monocots/Commelinids     Poales  PHYT_8121073   \n",
       "\n",
       "                                               Sequence  Data_source  \\\n",
       "0     MAASVENRQFSHLEPGLSGVGRTFKPRSDSPVRGCNFPPSSKHELP...          1kp   \n",
       "1     MPGIKGPSDYSREPPRHPCLKINSKEPFNAEPTRSALISSYVTPVD...          1kp   \n",
       "2     MEFLERPDAQLIIGVAVAAVAVGATAYFYFSSKKSKVCLNPEEFRA...          1kp   \n",
       "3     MAAFLRKLAKAAPVAFSEAFRGDSKSNFADPRFPFGAIAAVAGCVS...          1kp   \n",
       "4     MPTLTKLFTMEEAAQHNTKDDCWVVIDGKVYDVSSYLDEHPGGDDV...          1kp   \n",
       "...                                                 ...          ...   \n",
       "7037  MAAVEPRQFGRLEPARVGAYPPPPSHIPRRADSPARGCGFPPLVSP...        phyto   \n",
       "7038  MAASVERHLAPHPWPANAPPKSFDMFRTGSDSDSEDEDSIPAVDWR...        phyto   \n",
       "7039  MAAVEPRQFGRLEPGSSPVRVATNGAKAYPPPASHLPRRADSPVRG...        phyto   \n",
       "7040  MAASVERHLAPHPWPANAPPKSFDMFRSGGPGGKRRTGPDSDSEDE...        phyto   \n",
       "7041  MSTCVEQPTHSASLDPTAAQRLPYPDLPVDILRRSSVRGSGFVAAA...        phyto   \n",
       "\n",
       "             Protein Short_species  Phyto_species_y  \\\n",
       "0                NaN           NaN              NaN   \n",
       "1                NaN           NaN              NaN   \n",
       "2                NaN           NaN              NaN   \n",
       "3                NaN           NaN              NaN   \n",
       "4                NaN           NaN              NaN   \n",
       "...              ...           ...              ...   \n",
       "7037  Zm00001d031769        Z_mays  Zmays_RefGen_V4   \n",
       "7038  Zm00001d052139        Z_mays  Zmays_RefGen_V4   \n",
       "7039  Zm00001d049995        Z_mays  Zmays_RefGen_V4   \n",
       "7040  Zm00001d018206        Z_mays  Zmays_RefGen_V4   \n",
       "7041  Zm00001d017025        Z_mays  Zmays_RefGen_V4   \n",
       "\n",
       "                                                 Header  \n",
       "0     DLJZ_2059039|Solanum_ptychanthum|Core_eudicots...  \n",
       "1     DLJZ_2057353|Solanum_ptychanthum|Core_eudicots...  \n",
       "2     DLJZ_2054501|Solanum_ptychanthum|Core_eudicots...  \n",
       "3     DLJZ_2002023|Solanum_ptychanthum|Core_eudicots...  \n",
       "4     DLJZ_2050677|Solanum_ptychanthum|Core_eudicots...  \n",
       "...                                                 ...  \n",
       "7037  PHYT_2731697|Zea_mays|Monocots/Commelinids|Poa...  \n",
       "7038  PHYT_6862052|Zea_mays|Monocots/Commelinids|Poa...  \n",
       "7039  PHYT_2065661|Zea_mays|Monocots/Commelinids|Poa...  \n",
       "7040  PHYT_7245880|Zea_mays|Monocots/Commelinids|Poa...  \n",
       "7041  PHYT_8121073|Zea_mays|Monocots/Commelinids|Poa...  \n",
       "\n",
       "[7042 rows x 26 columns]"
      ]
     },
     "execution_count": 12,
     "metadata": {},
     "output_type": "execute_result"
    }
   ],
   "source": [
    "temp_df"
   ]
  },
  {
   "cell_type": "code",
   "execution_count": 21,
   "metadata": {},
   "outputs": [
    {
     "data": {
      "text/plain": [
       "'PHYT_6642896|Arabidopsis_thaliana|Core_eudicots/Rosids|Brassicales|phyto'"
      ]
     },
     "execution_count": 21,
     "metadata": {},
     "output_type": "execute_result"
    }
   ],
   "source": [
    "# Print the A. thaliana headers\n",
    "temp_df2 = temp_df.loc[temp_df['Species'] == \"Arabidopsis_thaliana\"]\n",
    "temp_df2 = temp_df2['Header']\n",
    "temp_df2.iloc[0]"
   ]
  },
  {
   "cell_type": "code",
   "execution_count": 22,
   "metadata": {},
   "outputs": [
    {
     "data": {
      "text/plain": [
       "'PHYT_1421262|Arabidopsis_thaliana|Core_eudicots/Rosids|Brassicales|phyto'"
      ]
     },
     "execution_count": 22,
     "metadata": {},
     "output_type": "execute_result"
    }
   ],
   "source": [
    "temp_df2.iloc[1]"
   ]
  },
  {
   "cell_type": "code",
   "execution_count": 23,
   "metadata": {},
   "outputs": [
    {
     "data": {
      "text/plain": [
       "'PHYT_5350191|Arabidopsis_thaliana|Core_eudicots/Rosids|Brassicales|phyto'"
      ]
     },
     "execution_count": 23,
     "metadata": {},
     "output_type": "execute_result"
    }
   ],
   "source": [
    "temp_df2.iloc[2]"
   ]
  },
  {
   "cell_type": "markdown",
   "metadata": {},
   "source": [
    "# Remove overly similar sequences"
   ]
  },
  {
   "cell_type": "code",
   "execution_count": 4,
   "metadata": {},
   "outputs": [
    {
     "name": "stderr",
     "output_type": "stream",
     "text": [
      "\n",
      "!\t\t[Similarity Matrix Computation: ][TOT=24728028][  2 %][REMAINING TIME: 24794 sec.]"
     ]
    }
   ],
   "source": [
    "# Run T-COFFEE reformat utility to remove overly similary sequences, keeping the A. thaliana ones\n",
    "os.system(f\"t_coffee -other_pg seq_reformat -in output/{DATE}_phyto_1kp_master.fasta -action +trim _seq_%80_fNAME Arabidopsis_thaliana -output fasta_seq >output/BLAST/{DATE}_sequences_for_blast.fasta\")"
   ]
  },
  {
   "cell_type": "markdown",
   "metadata": {},
   "source": [
    "# Create SSN using BLAST"
   ]
  },
  {
   "cell_type": "code",
   "execution_count": null,
   "metadata": {},
   "outputs": [],
   "source": [
    "# Change fasta headers to only have Scaffold_id for blast network generation\n",
    "\n",
    "with open(f\"output/{DATE}_sequences_for_SSN.fasta\", \"w\") as blast_fasta:\n",
    "\n",
    "    for seq_record in SeqIO.parse(f\"output/BLAST/{DATE}_sequences_for_blast.fasta\", \"fasta\"):\n",
    "        seq_id = seq_record.id\n",
    "        id_lst = seq_id.split(\"|\")\n",
    "        scaffold_id = id_lst[0]\n",
    "\n",
    "        sequence = seq_record.seq\n",
    "\n",
    "        blast_fasta.write(f\">{scaffold_id}\\n\")\n",
    "        blast_fasta.write(f\"{sequence}\\n\")"
   ]
  },
  {
   "cell_type": "code",
   "execution_count": 2,
   "metadata": {},
   "outputs": [
    {
     "name": "stdout",
     "output_type": "stream",
     "text": [
      "\n",
      "\n",
      "Building a new DB, current time: 07/13/2022 08:56:19\n",
      "New DB name:   /home/mattm/projects/PR/output/BLAST/220713_dataset_db\n",
      "New DB title:  output/220712_sequences_for_SSN.fasta\n",
      "Sequence type: Protein\n",
      "Deleted existing Protein BLAST database named /home/mattm/projects/PR/output/BLAST/220713_dataset_db\n",
      "Keep MBits: T\n",
      "Maximum file size: 1000000000B\n",
      "Adding sequences from FASTA; added 6711 sequences in 0.0852249 seconds.\n"
     ]
    }
   ],
   "source": [
    "# Run a all v all BLAST search using a blast function \n",
    "# BLAST must be installed locally.\n",
    "# Takes 3 arguments, a fasta file, the project name, and the e-value threshold.\n",
    "\n",
    "# Just a clear way of laying out the function arguments\n",
    "\n",
    "in_fasta = f'output/220712_sequences_for_SSN.fasta' # Use the last outputted \n",
    "                                                        # fasta file from above\n",
    "# path = '/usr/lib/ncbi-blast-2.12.0+/bin'\n",
    "\n",
    "# Actual BLAST function, using default E_value_threshold=\"10e-10\", cpus=\"2\" (adjust \n",
    "# these arguments as required)\n",
    "\n",
    "blast(in_fasta, '10e-10', cpus='24')"
   ]
  },
  {
   "cell_type": "code",
   "execution_count": null,
   "metadata": {},
   "outputs": [
    {
     "data": {
      "text/plain": [
       "<seaborn.axisgrid.FacetGrid at 0x10395f130>"
      ]
     },
     "metadata": {},
     "output_type": "display_data"
    },
    {
     "data": {
      "image/png": "[encoded data removed]",
      "text/plain": [
       "<Figure size 360x360 with 1 Axes>"
      ]
     },
     "metadata": {},
     "output_type": "display_data"
    }
   ],
   "source": [
    "blast_table = pd.read_csv(\"output/BLAST/220323_dataset_network_10e-10.csv\")\n",
    "\n",
    "per_id = blast_table[[\"Query\", '% Identity']]\n",
    "Athaliana = per_id.loc[per_id['Query'] == 'PHYT_1421262'] \n",
    "\n",
    "sns.displot(Athaliana, x = '% Identity', kind = 'kde', multiple = 'stack')"
   ]
  },
  {
   "cell_type": "code",
   "execution_count": null,
   "metadata": {},
   "outputs": [
    {
     "name": "stdout",
     "output_type": "stream",
     "text": [
      "\n",
      "\n",
      "Building a new DB, current time: 03/23/2022 15:50:33\n",
      "New DB name:   /Users/u6280883/Library/CloudStorage/OneDrive-AustralianNationalUniversity/Documents/Main/Uni/2.PhD/3.NR/NR_python_pipeline/output/BLAST/220323_dataset_db\n",
      "New DB title:  output/220323_sequences_to_blast.fasta\n",
      "Sequence type: Protein\n",
      "Deleted existing Protein BLAST database named /Users/u6280883/Library/CloudStorage/OneDrive-AustralianNationalUniversity/Documents/Main/Uni/2.PhD/3.NR/NR_python_pipeline/output/BLAST/220323_dataset_db\n",
      "Keep MBits: T\n",
      "Maximum file size: 1000000000B\n",
      "Adding sequences from FASTA; added 541 sequences in 0.0245349 seconds.\n",
      "\n",
      "\n",
      "Run time: 0:02:30 hh:mm:ss\n",
      "Network file output/BLAST/220323_dataset_network_10e-10.csv generated\n"
     ]
    }
   ],
   "source": [
    "# Run a all v all BLAST search using a blast function \n",
    "# BLAST must be installed locally.\n",
    "# Takes 3 arguments, a fasta file, the project name, and the e-value threshold.\n",
    "\n",
    "# Just a clear way of laying out the function arguments\n",
    "\n",
    "blast_path = '/Users/u6280883/Library/ncbi-blast-2.12.0+/bin/' # Only needed if blast hasn't been \n",
    "                                                      # added to the PATH environment, must \n",
    "                                                      # end in '/'\n",
    "in_fasta = f'output/220323_sequences_to_blast.fasta' # Use the last outputted \n",
    "                                                        # fasta file from above\n",
    "# path = '/usr/lib/ncbi-blast-2.12.0+/bin'\n",
    "\n",
    "# Actual BLAST function, using default E_value_threshold=\"10e-10\", cpus=\"2\" (adjust \n",
    "# these arguments as required)\n",
    "\n",
    "blast(in_fasta, '10e-10', cpus='6', path=blast_path)"
   ]
  },
  {
   "cell_type": "markdown",
   "metadata": {},
   "source": [
    "# Run Evolocity"
   ]
  },
  {
   "cell_type": "code",
   "execution_count": null,
   "metadata": {},
   "outputs": [],
   "source": []
  }
 ],
 "metadata": {
  "kernelspec": {
   "display_name": "Python 3.10.2 64-bit",
   "language": "python",
   "name": "python3"
  },
  "language_info": {
   "codemirror_mode": {
    "name": "ipython",
    "version": 3
   },
   "file_extension": ".py",
   "mimetype": "text/x-python",
   "name": "python",
   "nbconvert_exporter": "python",
   "pygments_lexer": "ipython3",
   "version": "3.10.2"
  },
  "orig_nbformat": 4,
  "vscode": {
   "interpreter": {
    "hash": "aee8b7b246df8f9039afb4144a1f6fd8d2ca17a180786b69acc140d282b71a49"
   }
  }
 },
 "nbformat": 4,
 "nbformat_minor": 2
}
